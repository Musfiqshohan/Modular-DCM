{
 "cells": [
  {
   "cell_type": "code",
   "execution_count": null,
   "outputs": [],
   "source": [
    "import os\n",
    "\n",
    "\n",
    "def plot_image_ara(img_ara, xlabel, folder=None, title=None):\n",
    "    rows=img_ara.shape[0]\n",
    "    cols=img_ara.shape[1]\n",
    "\n",
    "    print(rows,cols)\n",
    "\n",
    "    f, axarr = plt.subplots(rows, cols, figsize=(cols, rows), squeeze=False)\n",
    "    for c in range(cols):\n",
    "\n",
    "        if c==0:\n",
    "            # axarr[0, c].set_yticklabels( ['', '', 'Sex=0 \\nEye=1'], rotation=0 ,fontsize=12 )\n",
    "            # axarr[1, c].set_yticklabels( ['', '', 'Sex=1 \\n Eye=1'], rotation=0 ,fontsize=12)\n",
    "            for id, lb in enumerate(xlabel):\n",
    "                axarr[id, c].set_yticklabels( ['', '', lb], rotation=0 ,fontsize=12 )\n",
    "\n",
    "\n",
    "\n",
    "        for r in range(rows):\n",
    "            if c>0:\n",
    "                axarr[r, c].get_yaxis().set_ticks([])\n",
    "\n",
    "            axarr[r, c].get_xaxis().set_ticks([])\n",
    "            img= img_ara[r][c].cpu().detach().numpy()\n",
    "            # img= np.transpose(img, (1,2,0))\n",
    "            axarr[r, c].imshow(img)\n",
    "\n",
    "\n",
    "        f.subplots_adjust(left=0, right=1, top=1, bottom=0, wspace=0, hspace=0)\n",
    "\n",
    "    if folder==None:\n",
    "\n",
    "        plt.show()\n",
    "    else:\n",
    "        os.makedirs(folder, exist_ok=True)\n",
    "        plt.savefig(f'{folder}/{title}.png', bbox_inches='tight')\n",
    "\n",
    "    plt.close()"
   ],
   "metadata": {
    "collapsed": false
   }
  },
  {
   "cell_type": "code",
   "execution_count": null,
   "outputs": [],
   "source": [
    "exp_name = \"sex_eyeglass\"\n",
    "targetAtt = 'Eyeglasses'\n",
    "plot_folder= '/local/scratch/a/rahman89/PycharmProjects/modularCelebA/modularTraining/PLOTS'\n",
    "folder= f'/local/scratch/a/rahman89/PycharmProjects/modularCelebA/{exp_name}'"
   ],
   "metadata": {
    "collapsed": false
   }
  },
  {
   "cell_type": "code",
   "execution_count": null,
   "outputs": [],
   "source": [
    "import copy\n",
    "\n",
    "import matplotlib.pyplot as plt\n",
    "import numpy as np\n",
    "import pandas as pd\n",
    "import pickle\n",
    "import copy\n",
    "from torch.utils.data import Dataset, DataLoader\n",
    "import torch\n",
    "from torch.utils.data.sampler import SubsetRandomSampler\n",
    "import torchvision.transforms as transforms\n",
    "from modularTraining.constantFunctions import get_train_test_loaders, get_idata, denorm\n",
    "from modularTraining.constantFunctions import get_sexWithAge\n",
    "\n",
    "from Classifiers.mobileNet.model import MobileNet\n",
    "from torch import nn\n",
    "from Classifiers.mobileNet.train_valid_test import test\n",
    "\n",
    "from modularTraining.constantFunctions import get_dataloaders\n",
    "from Classifiers.mobileNet.train_valid_test import train, validation\n",
    "\n",
    "\n",
    "\n",
    "intv_labels={}\n",
    "male_list=[]\n",
    "young_list=[]\n",
    "img_list=[]\n",
    "\n",
    "plt_img=[]\n",
    "\n",
    "\n",
    "st=160\n",
    "en = st+16\n",
    "for m,y in zip([0,0,1,1], [0,1,0,1]):\n",
    "    # ll, ii = get_idata(f'fakeIdom{m}y{y}/images_Idom{m}y{y}.pkl', f'fakeIdom{m}y{y}/labels_Idom{m}y{y}.pkl')  #getting  m0y0 data samples\n",
    "    ll, ii = get_idata(folder, f'fakeIdom{m}e{y}/images_Idom{m}e{y}.pkl', f'fakeIdom{m}e{y}/labels_Idom{m}e{y}.pkl')  #getting  m0e0 data samples\n",
    "    plt_img.append(denorm(ii['I'][st:en]).permute(0,2,3,1).unsqueeze(0))\n",
    "\n",
    "\n",
    "    male_list.append(ll['Male'])\n",
    "    young_list.append(ll['Young'])\n",
    "    img_list.append(ii['I'])\n",
    "\n",
    "#\n",
    "\n",
    "xlabel=['Sex=0\\nEye=0', 'Sex=0\\nEye=1', 'Sex=1\\nEye=0', 'Sex=1\\nEye=1']\n",
    "img_ara= torch.cat(plt_img)\n",
    "# plot_image_ara(img_ara, '/local/scratch/a/rahman89/PycharmProjects/modularCelebA/modularTraining/PLOTS', f\"eye1_sample{st}_{en}\")\n",
    "plot_image_ara(img_ara,xlabel, plot_folder , f\"joint_sample{st}_{en}\")"
   ],
   "metadata": {
    "collapsed": false
   }
  },
  {
   "cell_type": "markdown",
   "source": [
    "# P(Image) from train domain"
   ],
   "metadata": {
    "collapsed": false
   }
  },
  {
   "cell_type": "code",
   "execution_count": null,
   "outputs": [],
   "source": [
    "from modularTraining.constantFunctions import get_one_attribute_loader\n",
    "\n",
    "exp_name = \"sex_eyeglass\"\n",
    "dom_name = \"domain1\"\n",
    "targetAtt = 'Eyeglasses'\n",
    "lb_file = f'/local/scratch/a/rahman89/PycharmProjects/modularCelebA/{exp_name}/8_attribute_celeba_{dom_name}.pkl'\n",
    "img_file = f'/local/scratch/a/rahman89/PycharmProjects/modularCelebA/{exp_name}/images_celeba_{dom_name}.pkl'\n",
    "domain_dataset1, trainloader1, validloader1, testloader1 = get_train_test_loaders(targetAtt, lb_file, img_file)\n",
    "\n",
    "\n",
    "eye_loader= get_one_attribute_loader(domain_dataset1, att1='Eyeglasses', val1=1, att2='Male', doNormalize=False)\n",
    "\n",
    "\n",
    "# def get_one_attribute_loader(domain_dataset, att1, val1, att2, doNormalize=False):\n",
    "#     retfo = (domain_dataset[att1] == val1)\n",
    "#     att1_lb = domain_dataset[att2][retfo].reshape(-1, 1).type(torch.FloatTensor)\n",
    "#     att1_image = domain_dataset['I'][retfo]\n",
    "#     oldfemale_trainloader, oldfemale_validloader, rare_testloader = get_dataloaders(att1_lb, att1_image,\n",
    "#                                                                                     split_t=0., split_v=0.,\n",
    "#                                                                                     doNormalize=doNormalize)\n",
    "#     return rare_testloader"
   ],
   "metadata": {
    "collapsed": false
   }
  },
  {
   "cell_type": "code",
   "execution_count": null,
   "outputs": [],
   "source": [
    "plt_img=[]\n",
    "\n",
    "for img, lb in eye_loader:\n",
    "    plt_img.append(denorm(img).permute(0,2,3,1))\n",
    "\n",
    "rows= 8\n",
    "plt_img = torch.cat(plt_img[0:80])\n",
    "plt_img= plt_img.view(rows,-1, 224,224,3)\n",
    "plot_image_ara(plt_img, ['' for r in range(rows)], plot_folder, \"P(I|eye)\")"
   ],
   "metadata": {
    "collapsed": false
   }
  },
  {
   "cell_type": "code",
   "execution_count": null,
   "outputs": [],
   "source": [
    "young=0\n",
    "for img, lb in eye_loader:\n",
    "    if lb==1:\n",
    "        young+=1\n",
    "\n",
    "print(young/ len(eye_loader))"
   ],
   "metadata": {
    "collapsed": false
   }
  },
  {
   "cell_type": "code",
   "execution_count": null,
   "outputs": [],
   "source": [
    "domain_dataset1.keys()"
   ],
   "metadata": {
    "collapsed": false
   }
  },
  {
   "cell_type": "code",
   "execution_count": null,
   "outputs": [],
   "source": [],
   "metadata": {
    "collapsed": false
   }
  }
 ],
 "metadata": {
  "kernelspec": {
   "display_name": "Python 3",
   "language": "python",
   "name": "python3"
  },
  "language_info": {
   "codemirror_mode": {
    "name": "ipython",
    "version": 2
   },
   "file_extension": ".py",
   "mimetype": "text/x-python",
   "name": "python",
   "nbconvert_exporter": "python",
   "pygments_lexer": "ipython2",
   "version": "2.7.6"
  }
 },
 "nbformat": 4,
 "nbformat_minor": 0
}
