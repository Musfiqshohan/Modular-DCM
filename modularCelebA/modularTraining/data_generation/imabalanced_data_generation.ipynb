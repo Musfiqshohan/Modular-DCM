{
 "cells": [
  {
   "cell_type": "code",
   "execution_count": 10,
   "outputs": [],
   "source": [
    "import pd as pd\n",
    "from matplotlib import pyplot as plt\n",
    "import os\n",
    "import glob\n",
    "from zipfile import ZipFile\n",
    "import torch\n",
    "from torch.utils.data import Dataset, DataLoader\n",
    "from torch import nn\n",
    "from torch.utils.data.sampler import SubsetRandomSampler\n",
    "import torchvision\n",
    "import torchvision.datasets as dataset\n",
    "import torchvision.transforms as transforms\n",
    "from PIL import Image\n"
   ],
   "metadata": {
    "collapsed": false
   }
  },
  {
   "cell_type": "code",
   "execution_count": 9,
   "outputs": [
    {
     "name": "stdout",
     "output_type": "stream",
     "text": [
      "/local/scratch/a/rahman89/PycharmProjects/modularCelebA/modularTraining/data_generation\r\n"
     ]
    }
   ],
   "source": [
    "IMAGE_SIZE= 224\n",
    "exp_name= \"sex_eyeglass\"\n"
   ],
   "metadata": {
    "collapsed": false
   }
  },
  {
   "cell_type": "code",
   "execution_count": 19,
   "outputs": [],
   "source": [
    "\n",
    "\n",
    "# data_path = sorted(glob.glob('/local/scratch/a/rahman89/Datasets/CelebAMask-HQ/CelebAMask-HQ/CelebA-HQ-img/*.jpg')) # This was a bug. It did not sort the images as 0,1,2,...\n",
    "data_path = '/local/scratch/a/rahman89/Datasets/CelebAMask-HQ/CelebAMask-HQ/CelebA-HQ-img/'\n",
    "label_path = \"/local/scratch/a/rahman89/Datasets/CelebAMask-HQ/CelebAMask-HQ/CelebAMask-HQ-attribute-anno.txt\"\n",
    "sep=\" \"\n",
    "rowst=2\n",
    "colst=2\n",
    "\n",
    "label_list = open(label_path).readlines()[rowst:]\n",
    "\n",
    "\n",
    "data_label = []\n",
    "for i in range(len(label_list)):\n",
    "    each_row= label_list[i].split(sep)\n",
    "    data_label.append(each_row)\n",
    "\n",
    "\n",
    "\n",
    "image_names=[]\n",
    "for m in range(len(data_label)):\n",
    "    image_names.append(data_label[m][0])  #image id\n",
    "    data_label[m] = data_label[m][colst:]  # rest of the labels\n",
    "    data_label[m] = [int(p) for p in data_label[m]]\n",
    "\n",
    "attributes = open(label_path).readlines()[1].split(' ')\n",
    "attributes[-1]= attributes[-1].strip('\\n')\n",
    "\n",
    "\n"
   ],
   "metadata": {
    "collapsed": false
   }
  },
  {
   "cell_type": "code",
   "execution_count": 20,
   "outputs": [
    {
     "data": {
      "text/plain": "        image_id  Attractive  Bald  Eyeglasses  Male  Mustache  Pale_Skin  \\\n0          0.jpg           1     0           0     0         0          0   \n1          1.jpg           1     0           0     0         0          0   \n2          2.jpg           1     0           0     0         0          0   \n3          3.jpg           1     0           0     0         0          0   \n4          4.jpg           0     0           0     0         0          0   \n...          ...         ...   ...         ...   ...       ...        ...   \n29995  29995.jpg           0     0           1     1         1          0   \n29996  29996.jpg           0     0           0     1         0          0   \n29997  29997.jpg           0     0           0     0         0          0   \n29998  29998.jpg           1     0           0     0         0          0   \n29999  29999.jpg           1     0           0     0         0          0   \n\n       Wearing_Lipstick  Young  \n0                     1      1  \n1                     1      1  \n2                     1      1  \n3                     1      1  \n4                     0      1  \n...                 ...    ...  \n29995                 0      0  \n29996                 0      1  \n29997                 0      1  \n29998                 1      1  \n29999                 1      0  \n\n[30000 rows x 9 columns]",
      "text/html": "<div>\n<style scoped>\n    .dataframe tbody tr th:only-of-type {\n        vertical-align: middle;\n    }\n\n    .dataframe tbody tr th {\n        vertical-align: top;\n    }\n\n    .dataframe thead th {\n        text-align: right;\n    }\n</style>\n<table border=\"1\" class=\"dataframe\">\n  <thead>\n    <tr style=\"text-align: right;\">\n      <th></th>\n      <th>image_id</th>\n      <th>Attractive</th>\n      <th>Bald</th>\n      <th>Eyeglasses</th>\n      <th>Male</th>\n      <th>Mustache</th>\n      <th>Pale_Skin</th>\n      <th>Wearing_Lipstick</th>\n      <th>Young</th>\n    </tr>\n  </thead>\n  <tbody>\n    <tr>\n      <th>0</th>\n      <td>0.jpg</td>\n      <td>1</td>\n      <td>0</td>\n      <td>0</td>\n      <td>0</td>\n      <td>0</td>\n      <td>0</td>\n      <td>1</td>\n      <td>1</td>\n    </tr>\n    <tr>\n      <th>1</th>\n      <td>1.jpg</td>\n      <td>1</td>\n      <td>0</td>\n      <td>0</td>\n      <td>0</td>\n      <td>0</td>\n      <td>0</td>\n      <td>1</td>\n      <td>1</td>\n    </tr>\n    <tr>\n      <th>2</th>\n      <td>2.jpg</td>\n      <td>1</td>\n      <td>0</td>\n      <td>0</td>\n      <td>0</td>\n      <td>0</td>\n      <td>0</td>\n      <td>1</td>\n      <td>1</td>\n    </tr>\n    <tr>\n      <th>3</th>\n      <td>3.jpg</td>\n      <td>1</td>\n      <td>0</td>\n      <td>0</td>\n      <td>0</td>\n      <td>0</td>\n      <td>0</td>\n      <td>1</td>\n      <td>1</td>\n    </tr>\n    <tr>\n      <th>4</th>\n      <td>4.jpg</td>\n      <td>0</td>\n      <td>0</td>\n      <td>0</td>\n      <td>0</td>\n      <td>0</td>\n      <td>0</td>\n      <td>0</td>\n      <td>1</td>\n    </tr>\n    <tr>\n      <th>...</th>\n      <td>...</td>\n      <td>...</td>\n      <td>...</td>\n      <td>...</td>\n      <td>...</td>\n      <td>...</td>\n      <td>...</td>\n      <td>...</td>\n      <td>...</td>\n    </tr>\n    <tr>\n      <th>29995</th>\n      <td>29995.jpg</td>\n      <td>0</td>\n      <td>0</td>\n      <td>1</td>\n      <td>1</td>\n      <td>1</td>\n      <td>0</td>\n      <td>0</td>\n      <td>0</td>\n    </tr>\n    <tr>\n      <th>29996</th>\n      <td>29996.jpg</td>\n      <td>0</td>\n      <td>0</td>\n      <td>0</td>\n      <td>1</td>\n      <td>0</td>\n      <td>0</td>\n      <td>0</td>\n      <td>1</td>\n    </tr>\n    <tr>\n      <th>29997</th>\n      <td>29997.jpg</td>\n      <td>0</td>\n      <td>0</td>\n      <td>0</td>\n      <td>0</td>\n      <td>0</td>\n      <td>0</td>\n      <td>0</td>\n      <td>1</td>\n    </tr>\n    <tr>\n      <th>29998</th>\n      <td>29998.jpg</td>\n      <td>1</td>\n      <td>0</td>\n      <td>0</td>\n      <td>0</td>\n      <td>0</td>\n      <td>0</td>\n      <td>1</td>\n      <td>1</td>\n    </tr>\n    <tr>\n      <th>29999</th>\n      <td>29999.jpg</td>\n      <td>1</td>\n      <td>0</td>\n      <td>0</td>\n      <td>0</td>\n      <td>0</td>\n      <td>0</td>\n      <td>1</td>\n      <td>0</td>\n    </tr>\n  </tbody>\n</table>\n<p>30000 rows × 9 columns</p>\n</div>"
     },
     "execution_count": 20,
     "metadata": {},
     "output_type": "execute_result"
    }
   ],
   "source": [
    "import numpy as np\n",
    "import pandas as pd\n",
    "labels= np.array(data_label)\n",
    "\n",
    "data_dict={}\n",
    "for iter, att in enumerate(attributes):\n",
    "    data_dict[att] = labels[:,iter]\n",
    "\n",
    "data_dict['image_id']= image_names\n",
    "df = pd.DataFrame(data_dict)\n",
    "df = df.replace([-1], 0)\n",
    "cur_attrs=['Attractive', 'Bald',  'Eyeglasses',  'Male', 'Mustache', 'Pale_Skin',  'Wearing_Lipstick', 'Young']\n",
    "all_labels= ['image_id']+ cur_attrs\n",
    "df = df[all_labels]\n",
    "df"
   ],
   "metadata": {
    "collapsed": false
   }
  },
  {
   "cell_type": "markdown",
   "source": [
    "# Generating dataset of nk samples\n"
   ],
   "metadata": {
    "collapsed": false
   }
  },
  {
   "cell_type": "markdown",
   "source": [
    "Train data distribution\n",
    "\n",
    "\tEyeglass=0\tEyeglass=1\n",
    "Male=0\t3200\t100\n",
    "Male=1\t1000\t1080\n",
    "\n",
    "\tEyeglass=0\tEyeglass=1\n",
    "Male=0\t0.60\t0.018\n",
    "Male=1\t0.18\t0.20\n",
    "\n",
    "Total = 5380\n",
    "P(Eye=1)=0.22\n",
    "P(Male=0)= 0.61"
   ],
   "metadata": {
    "collapsed": false
   }
  },
  {
   "cell_type": "code",
   "execution_count": 35,
   "outputs": [
    {
     "data": {
      "text/plain": "       image_id  Attractive  Bald  Eyeglasses  Male  Mustache  Pale_Skin  \\\n0       283.jpg           0     0           0     1         0          0   \n1      2942.jpg           1     0           0     0         0          0   \n2      1542.jpg           1     0           0     0         0          0   \n3      2632.jpg           1     0           0     0         0          0   \n4     12803.jpg           0     0           1     1         0          0   \n...         ...         ...   ...         ...   ...       ...        ...   \n5375     97.jpg           0     0           0     1         0          0   \n5376   1640.jpg           1     0           0     0         0          0   \n5377    948.jpg           0     0           0     1         0          0   \n5378   2150.jpg           0     0           0     0         0          0   \n5379  16416.jpg           0     0           1     1         0          0   \n\n      Wearing_Lipstick  Young  \n0                    0      1  \n1                    1      1  \n2                    1      1  \n3                    1      1  \n4                    0      0  \n...                ...    ...  \n5375                 0      0  \n5376                 0      1  \n5377                 0      1  \n5378                 1      1  \n5379                 0      0  \n\n[5380 rows x 9 columns]",
      "text/html": "<div>\n<style scoped>\n    .dataframe tbody tr th:only-of-type {\n        vertical-align: middle;\n    }\n\n    .dataframe tbody tr th {\n        vertical-align: top;\n    }\n\n    .dataframe thead th {\n        text-align: right;\n    }\n</style>\n<table border=\"1\" class=\"dataframe\">\n  <thead>\n    <tr style=\"text-align: right;\">\n      <th></th>\n      <th>image_id</th>\n      <th>Attractive</th>\n      <th>Bald</th>\n      <th>Eyeglasses</th>\n      <th>Male</th>\n      <th>Mustache</th>\n      <th>Pale_Skin</th>\n      <th>Wearing_Lipstick</th>\n      <th>Young</th>\n    </tr>\n  </thead>\n  <tbody>\n    <tr>\n      <th>0</th>\n      <td>283.jpg</td>\n      <td>0</td>\n      <td>0</td>\n      <td>0</td>\n      <td>1</td>\n      <td>0</td>\n      <td>0</td>\n      <td>0</td>\n      <td>1</td>\n    </tr>\n    <tr>\n      <th>1</th>\n      <td>2942.jpg</td>\n      <td>1</td>\n      <td>0</td>\n      <td>0</td>\n      <td>0</td>\n      <td>0</td>\n      <td>0</td>\n      <td>1</td>\n      <td>1</td>\n    </tr>\n    <tr>\n      <th>2</th>\n      <td>1542.jpg</td>\n      <td>1</td>\n      <td>0</td>\n      <td>0</td>\n      <td>0</td>\n      <td>0</td>\n      <td>0</td>\n      <td>1</td>\n      <td>1</td>\n    </tr>\n    <tr>\n      <th>3</th>\n      <td>2632.jpg</td>\n      <td>1</td>\n      <td>0</td>\n      <td>0</td>\n      <td>0</td>\n      <td>0</td>\n      <td>0</td>\n      <td>1</td>\n      <td>1</td>\n    </tr>\n    <tr>\n      <th>4</th>\n      <td>12803.jpg</td>\n      <td>0</td>\n      <td>0</td>\n      <td>1</td>\n      <td>1</td>\n      <td>0</td>\n      <td>0</td>\n      <td>0</td>\n      <td>0</td>\n    </tr>\n    <tr>\n      <th>...</th>\n      <td>...</td>\n      <td>...</td>\n      <td>...</td>\n      <td>...</td>\n      <td>...</td>\n      <td>...</td>\n      <td>...</td>\n      <td>...</td>\n      <td>...</td>\n    </tr>\n    <tr>\n      <th>5375</th>\n      <td>97.jpg</td>\n      <td>0</td>\n      <td>0</td>\n      <td>0</td>\n      <td>1</td>\n      <td>0</td>\n      <td>0</td>\n      <td>0</td>\n      <td>0</td>\n    </tr>\n    <tr>\n      <th>5376</th>\n      <td>1640.jpg</td>\n      <td>1</td>\n      <td>0</td>\n      <td>0</td>\n      <td>0</td>\n      <td>0</td>\n      <td>0</td>\n      <td>0</td>\n      <td>1</td>\n    </tr>\n    <tr>\n      <th>5377</th>\n      <td>948.jpg</td>\n      <td>0</td>\n      <td>0</td>\n      <td>0</td>\n      <td>1</td>\n      <td>0</td>\n      <td>0</td>\n      <td>0</td>\n      <td>1</td>\n    </tr>\n    <tr>\n      <th>5378</th>\n      <td>2150.jpg</td>\n      <td>0</td>\n      <td>0</td>\n      <td>0</td>\n      <td>0</td>\n      <td>0</td>\n      <td>0</td>\n      <td>1</td>\n      <td>1</td>\n    </tr>\n    <tr>\n      <th>5379</th>\n      <td>16416.jpg</td>\n      <td>0</td>\n      <td>0</td>\n      <td>1</td>\n      <td>1</td>\n      <td>0</td>\n      <td>0</td>\n      <td>0</td>\n      <td>0</td>\n    </tr>\n  </tbody>\n</table>\n<p>5380 rows × 9 columns</p>\n</div>"
     },
     "execution_count": 35,
     "metadata": {},
     "output_type": "execute_result"
    }
   ],
   "source": [
    "\n",
    "m0e0= 3200\n",
    "m0e1=100\n",
    "m1e0=1000\n",
    "m1e1= 1080\n",
    "\n",
    "df_old_female= df.loc[(df['Male'] == 0) & (df['Eyeglasses']==0)][0:m0e0]\n",
    "df_young_female= df.loc[(df['Male'] == 0) & (df['Eyeglasses']==1)][0:m0e1]\n",
    "df_old_male= df.loc[(df['Male'] == 1) & (df['Eyeglasses']==0)][0:m1e0]\n",
    "df_young_male= df.loc[(df['Male'] == 1) & (df['Eyeglasses']==1)][0:m1e1]\n",
    "\n",
    "\n",
    "\n",
    "selected_df=  pd.concat([df_old_female,df_young_female, df_old_male, df_young_male])\n",
    "train_df = selected_df.sample(frac=1).reset_index(drop=True)\n",
    "train_df\n"
   ],
   "metadata": {
    "collapsed": false
   }
  },
  {
   "cell_type": "code",
   "execution_count": 36,
   "outputs": [
    {
     "data": {
      "text/plain": "(3200, 100, 1000, 1080)"
     },
     "execution_count": 36,
     "metadata": {},
     "output_type": "execute_result"
    }
   ],
   "source": [
    "len(df_old_female), len(df_young_female), len(df_old_male), len(df_young_male),"
   ],
   "metadata": {
    "collapsed": false
   }
  },
  {
   "cell_type": "code",
   "execution_count": 37,
   "outputs": [
    {
     "name": "stdout",
     "output_type": "stream",
     "text": [
      "Attractive 2581\n",
      "Bald 204\n",
      "Eyeglasses 1180\n",
      "Male 2080\n",
      "Mustache 370\n",
      "Pale_Skin 202\n",
      "Wearing_Lipstick 2905\n",
      "Young 3827\n"
     ]
    }
   ],
   "source": [
    "for lb in cur_attrs:\n",
    "    print(lb, len(train_df[train_df[lb]==1]))"
   ],
   "metadata": {
    "collapsed": false
   }
  },
  {
   "cell_type": "code",
   "execution_count": 38,
   "outputs": [
    {
     "name": "stdout",
     "output_type": "stream",
     "text": [
      "saved at : /local/scratch/a/rahman89/PycharmProjects/modularCelebA/sex_eyeglass/base_celeba_train.csv\n"
     ]
    }
   ],
   "source": [
    "file_name= f'/local/scratch/a/rahman89/PycharmProjects/modularCelebA/{exp_name}/base_celeba_train.csv'\n",
    "train_df.to_csv(file_name, encoding='utf-8', index=False)\n",
    "print('saved at :',file_name)"
   ],
   "metadata": {
    "collapsed": false
   }
  },
  {
   "cell_type": "code",
   "execution_count": 39,
   "outputs": [
    {
     "name": "stdout",
     "output_type": "stream",
     "text": [
      "Going to save at /local/scratch/a/rahman89/PycharmProjects/modularCelebA/sex_eyeglass/8_attribute_celeba_domain1.pkl\n"
     ]
    },
    {
     "name": "stderr",
     "output_type": "stream",
     "text": [
      "100%|██████████| 5380/5380 [00:35<00:00, 151.28it/s]\n"
     ]
    },
    {
     "name": "stdout",
     "output_type": "stream",
     "text": [
      "Going to save at /local/scratch/a/rahman89/PycharmProjects/modularCelebA/sex_eyeglass/images_celeba_domain1.pkl\n"
     ]
    }
   ],
   "source": [
    "from tqdm import tqdm\n",
    "import pickle\n",
    "\n",
    "\n",
    "def save_labels(dom_name, true_data):\n",
    "\tsave_folder= f'/local/scratch/a/rahman89/PycharmProjects/modularCelebA/{exp_name}'\n",
    "\tsave_loc =f'{save_folder}/8_attribute_celeba_{dom_name}.pkl'\n",
    "\tprint('Going to save at', save_loc)\n",
    "\twith open(save_loc, 'wb') as f:\n",
    "\t\tpickle.dump(true_data, f)\n",
    "\n",
    "\n",
    "\n",
    "def save_images(dom_name, true_data):\n",
    "\tsave_folder= f'/local/scratch/a/rahman89/PycharmProjects/modularCelebA/{exp_name}'\n",
    "\tsave_loc =f'{save_folder}/images_celeba_{dom_name}.pkl'\n",
    "\tprint('Going to save at', save_loc)\n",
    "\twith open(save_loc, 'wb') as f:\n",
    "\t\tpickle.dump(true_data, f)\n",
    "\n",
    "# saving training data and validation data as pkl file here.\n",
    "transform = transforms.Compose(\n",
    "            [transforms.Resize(IMAGE_SIZE),\n",
    "             transforms.ToTensor(),\n",
    "             transforms.Normalize((0.5, 0.5, 0.5), (0.5, 0.5, 0.5))\n",
    "             ]\n",
    "        )\n",
    "\n",
    "\n",
    "save_folder= f'/local/scratch/a/rahman89/PycharmProjects/modularCelebA/{exp_name}'\n",
    "os.makedirs(save_folder, exist_ok=True)\n",
    "\n",
    "\n",
    "label_path= f'/local/scratch/a/rahman89/PycharmProjects/modularCelebA/{exp_name}/base_celeba_train.csv'\n",
    "sampled_labels = pd.read_csv(label_path)\n",
    "\n",
    "true_dataset = {}\n",
    "for lb in cur_attrs:\n",
    "    true_dataset[lb]= torch.tensor(sampled_labels[lb].values)\n",
    "\n",
    "\n",
    "save_labels('domain1', true_dataset)\n",
    "\n",
    "img_folder= '/local/scratch/a/rahman89/Datasets/CelebAMask-HQ/CelebAMask-HQ/CelebA-HQ-img/'\n",
    "images =[]\n",
    "for id in tqdm(sampled_labels['image_id']):\n",
    "    img_path = f'{img_folder}/{id}'\n",
    "    cur_im = Image.open(img_path)\n",
    "    image_tensor = transform(cur_im)\n",
    "    images.append(image_tensor.unsqueeze(0))\n",
    "\n",
    "true_dataset['I'] = torch.cat(images)\n",
    "\n",
    "save_images(dom_name= \"domain1\", true_data= true_dataset)\n",
    "\n"
   ],
   "metadata": {
    "collapsed": false
   }
  }
 ],
 "metadata": {
  "kernelspec": {
   "display_name": "Python 3",
   "language": "python",
   "name": "python3"
  },
  "language_info": {
   "codemirror_mode": {
    "name": "ipython",
    "version": 2
   },
   "file_extension": ".py",
   "mimetype": "text/x-python",
   "name": "python",
   "nbconvert_exporter": "python",
   "pygments_lexer": "ipython2",
   "version": "2.7.6"
  }
 },
 "nbformat": 4,
 "nbformat_minor": 0
}
