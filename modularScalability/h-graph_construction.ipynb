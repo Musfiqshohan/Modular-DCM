{
 "cells": [
  {
   "cell_type": "code",
   "execution_count": 3,
   "metadata": {
    "collapsed": true
   },
   "outputs": [
    {
     "name": "stdout",
     "output_type": "stream",
     "text": [
      "The autoreload extension is already loaded. To reload it, use:\n",
      "  %reload_ext autoreload\n",
      "Done\n"
     ]
    }
   ],
   "source": [
    "\n",
    "import os\n",
    "import sys\n",
    "import time\n",
    "\n",
    "import pydot\n",
    "from IPython.display import Image, display\n",
    "\n",
    "sys.path.append(\"\")\n",
    "import unittest\n",
    "\n",
    "%load_ext autoreload\n",
    "%autoreload 2\n",
    "import numpy as np\n",
    "\n",
    "import random\n",
    "\n",
    "import pyAgrum as gum\n",
    "import pyAgrum.lib.notebook as gnb\n",
    "import pyAgrum.lib.image as gumimage\n",
    "\n",
    "\n",
    "from pyAgrum.lib.bn2graph import BN2dot\n",
    "\n",
    "from matplotlib import pyplot as plt\n",
    "\n",
    "from H_graph_construction import Find_Joint, get_parents\n",
    "import copy\n",
    "\n",
    "print('Done')"
   ]
  },
  {
   "cell_type": "code",
   "execution_count": 6,
   "outputs": [],
   "source": [
    "\n",
    "\n",
    "def get_dataset(H_graph, Observed_DAG ,latent_conf, confTochild):\n",
    "    S=[]\n",
    "    O=[]\n",
    "\n",
    "    dataset={}\n",
    "    intv={}\n",
    "    for hnode in H_graph[asKey({})]:\n",
    "        # print('At hnode:', hnode)\n",
    "\n",
    "        ulatent_conf = copy.deepcopy(latent_conf)\n",
    "        uconfTochild = copy.deepcopy(confTochild)\n",
    "        uObserved_DAG = copy.deepcopy(Observed_DAG)\n",
    "\n",
    "        for int in intv:\n",
    "            uObserved_DAG[int] = []\n",
    "            ulatent_conf[int] = []\n",
    "\n",
    "        for conf in uconfTochild:\n",
    "            uconfTochild[conf] = list(set(confTochild[conf]) - set(intv))\n",
    "\n",
    "        A= Find_Joint(ulatent_conf, uconfTochild, uObserved_DAG, H_graph[asKey(intv)], list(hnode))\n",
    "        do_par= get_parents(uObserved_DAG, A)\n",
    "\n",
    "        if set(intv.keys()) & set(hnode)== set({}):\n",
    "            # print('Found Joint to train ++++observation: ', A, 'do_pars',do_par, 'intv:',intv)\n",
    "            O.append((A,do_par, intv))  #do a minimum check now or later\n",
    "\n",
    "        else:\n",
    "            # print('Found Joint to train ////intervention: ', A, 'do_pars', do_par, 'intv:', intv)\n",
    "            S.append((A,do_par, intv))  #do a minimum check now or later\n",
    "\n",
    "        dataset[hnode] =  A+do_par\n",
    "\n",
    "    return dataset"
   ],
   "metadata": {
    "collapsed": false
   }
  },
  {
   "cell_type": "code",
   "execution_count": 23,
   "outputs": [
    {
     "name": "stderr",
     "output_type": "stream",
     "text": [
      "/Users/rahman89/PycharmProjects/Modular-DCM/modularScalability/Lvenv/lib/python3.11/site-packages/pyAgrum/pyAgrum.py:9370: UserWarning: \n",
      "** pyAgrum.Potential.var_names is obsolete in pyAgrum>0.22.9. Please use pyAgrum.Potential.names.\n",
      "\n",
      "  warnings.warn(\"\\n** pyAgrum.Potential.var_names is obsolete in pyAgrum>0.22.9. Please use pyAgrum.Potential.names.\\n\")\n"
     ]
    },
    {
     "name": "stdout",
     "output_type": "stream",
     "text": [
      "conf_prob:0.1, max_num_latent: 16 mxcc:22, mxdata:49 out of 50 \n",
      "conf_prob:0.1, max_num_latent: 16 mxcc:17, mxdata:46 out of 50 \n",
      "conf_prob:0.1, max_num_latent: 16 mxcc:5, mxdata:44 out of 50 \n",
      "conf_prob:0.1, max_num_latent: 16 mxcc:21, mxdata:49 out of 50 \n",
      "conf_prob:0.1, max_num_latent: 16 mxcc:21, mxdata:46 out of 50 \n",
      "conf_prob:0.1, max_num_latent: 16 mxcc:19, mxdata:47 out of 50 \n",
      "conf_prob:0.1, max_num_latent: 16 mxcc:6, mxdata:47 out of 50 \n",
      "conf_prob:0.1, max_num_latent: 16 mxcc:14, mxdata:43 out of 50 \n",
      "conf_prob:0.1, max_num_latent: 16 mxcc:16, mxdata:50 out of 50 \n",
      "conf_prob:0.1, max_num_latent: 16 mxcc:23, mxdata:46 out of 50 \n",
      "conf_prob:0.1, max_num_latent: 16 mxcc:21, mxdata:47 out of 50 \n",
      "conf_prob:0.1, max_num_latent: 16 mxcc:21, mxdata:49 out of 50 \n",
      "conf_prob:0.1, max_num_latent: 16 mxcc:22, mxdata:46 out of 50 \n",
      "conf_prob:0.1, max_num_latent: 16 mxcc:17, mxdata:45 out of 50 \n",
      "conf_prob:0.1, max_num_latent: 16 mxcc:23, mxdata:48 out of 50 \n",
      "conf_prob:0.1, max_num_latent: 16 mxcc:24, mxdata:49 out of 50 \n",
      "conf_prob:0.1, max_num_latent: 16 mxcc:21, mxdata:47 out of 50 \n",
      "conf_prob:0.1, max_num_latent: 16 mxcc:18, mxdata:50 out of 50 \n",
      "conf_prob:0.1, max_num_latent: 16 mxcc:20, mxdata:45 out of 50 \n",
      "conf_prob:0.1, max_num_latent: 16 mxcc:24, mxdata:50 out of 50 \n",
      "conf_prob:0.1, max_num_latent: 16 mxcc:20, mxdata:47 out of 50 \n",
      "conf_prob:0.1, max_num_latent: 16 mxcc:21, mxdata:49 out of 50 \n",
      "conf_prob:0.1, max_num_latent: 16 mxcc:20, mxdata:48 out of 50 \n",
      "conf_prob:0.1, max_num_latent: 16 mxcc:27, mxdata:48 out of 50 \n",
      "conf_prob:0.1, max_num_latent: 16 mxcc:23, mxdata:49 out of 50 \n"
     ]
    }
   ],
   "source": [
    "from ConstantFunctions import draw_true_graph\n",
    "import itertools\n",
    "\n",
    "setID= 'node5'\n",
    "dir_name = 'set'+str(setID)\n",
    "os.makedirs(dir_name, exist_ok=True)\n",
    "domain=2 # states for each node.\n",
    "conf_prob= 0.10\n",
    "graphseed=89\n",
    "\n",
    "xaxis=[]\n",
    "y1axis=[]\n",
    "y2axis=[]\n",
    "\n",
    "n = 50\n",
    "ratio_arc=7\n",
    "for ratio_arc in [int(n/10), int(n/8), int(n/6), int(n/4), int(n/3)]:\n",
    "# for max_num_latent in range(2, int(2*n/3),5):\n",
    "# for n in range(5, 50, 5):\n",
    "# for n in range(15, 51, 5):\n",
    "# for n in [10]:\n",
    "# for n in [55]:\n",
    "    # ratio_arc= int(n/3)\n",
    "    max_num_latent= int(n/3)\n",
    "\n",
    "    curX, mech, data= [],[],[]\n",
    "    for iter in range(5):\n",
    "\n",
    "        node_names=['X'+str(i) for i in np.arange(1,n+1)]\n",
    "\n",
    "        #bn=gum.randomBN(n=n) # binary by default. also initializes the cpts\n",
    "        pc_list=[]\n",
    "        kpc_list=[]\n",
    "        N=1\n",
    "\n",
    "        # param_file=dir_name+'/'+'params'\n",
    "        # np.savez(param_file,n=n,domain=domain,N=N,density=ratio_arc)\n",
    "\n",
    "        # for i in range(N):\n",
    "        bn=gum.randomBN(n=n,names=node_names,ratio_arc=ratio_arc,domain_size=domain) # ratio_arc=1.2 default\n",
    "            # bn.generateCPTs()\n",
    "\n",
    "\n",
    "        Observed_DAG={}\n",
    "        Observed_DAG={nd:[] for nd in sorted(bn.names())}\n",
    "\n",
    "        for nd in Observed_DAG:\n",
    "            parents= bn.cpt(nd).var_names\n",
    "            parents.remove(nd)\n",
    "            Observed_DAG[nd]=parents\n",
    "\n",
    "        pairs = list(itertools.combinations(Observed_DAG.keys(), 2))\n",
    "\n",
    "        confounded=[]\n",
    "        # for par in pairs:\n",
    "        #     if random.uniform(0, 1) > conf_prob or len(confounded)>=max_num_latent  :\n",
    "        #         continue\n",
    "        #     confounded.append(par)\n",
    "\n",
    "        cnt=0\n",
    "        while cnt<max_num_latent:\n",
    "            l = len(pairs)\n",
    "            id =random.randint(0, l-1)\n",
    "            confounded.append(pairs[id])\n",
    "            pairs.pop(id)\n",
    "            cnt+=1\n",
    "\n",
    "        # print(confounded)\n",
    "\n",
    "        # break\n",
    "\n",
    "\n",
    "        confTochild={}\n",
    "        for iter, par in enumerate(confounded):\n",
    "            confTochild['U'+str(iter)]  = par\n",
    "\n",
    "\n",
    "        label_names = list(Observed_DAG.keys())\n",
    "        num_confounders= len(confTochild.keys())\n",
    "        Complete_DAG = {}\n",
    "        for conf in range(num_confounders):\n",
    "            Complete_DAG[\"U\"+str(conf)] = []\n",
    "\n",
    "\n",
    "        latent_conf={}\n",
    "        for var in Observed_DAG:\n",
    "            Complete_DAG[var]=[]\n",
    "            latent_conf[var] = []\n",
    "\n",
    "\n",
    "\n",
    "        for conf in confTochild:\n",
    "            for var in confTochild[conf]:\n",
    "                latent_conf[var].append(conf)\n",
    "                Complete_DAG[var].append(conf)\n",
    "\n",
    "        # visited=[]\n",
    "        # while len(visited)!=len(label_names):\n",
    "        for var in Observed_DAG:\n",
    "            Complete_DAG[var]=Complete_DAG[var]+ Observed_DAG[var]\n",
    "\n",
    "        complete_labels = list(Complete_DAG.keys())\n",
    "\n",
    "        # draw_true_graph(Complete_DAG)\n",
    "\n",
    "\n",
    "        import pyAgrum.causal as csl\n",
    "\n",
    "        latent_spec = []\n",
    "\n",
    "        for conf in confTochild.keys():\n",
    "            latent_spec.append((conf, tuple(confTochild[conf])))\n",
    "\n",
    "        cm_with_S = csl.CausalModel(bn, latent_spec, keepArcs=True)\n",
    "        cm_with_S\n",
    "        # gumimage.export(cm_with_S, \"output/causal_graph.png\")\n",
    "\n",
    "\n",
    "\n",
    "        from ConstantFunctions import asKey\n",
    "        from H_graph_construction import get_H_graphs\n",
    "\n",
    "        exogenous = {}\n",
    "        for label in label_names:\n",
    "            exogenous[label] = \"n\" + label\n",
    "\n",
    "        train_mech_dict={}\n",
    "\n",
    "        H_graph={}\n",
    "\n",
    "        intv={}\n",
    "        # print(f'Intv:{intv}')\n",
    "        H_graph[asKey(intv)]= get_H_graphs(intv.keys(), latent_conf, confTochild, Complete_DAG, Observed_DAG, label_names)\n",
    "\n",
    "        mxcc= 0\n",
    "\n",
    "        cc=[]\n",
    "        for key in H_graph[asKey(intv)]:\n",
    "            # print(len(key))\n",
    "            # mxcc= max(mxcc, len(key))\n",
    "            # print(key)\n",
    "            if len(key)>mxcc:\n",
    "                mxcc= len(key)\n",
    "                cc= key\n",
    "\n",
    "        # getting the data required for each hnode.\n",
    "        dataset= get_dataset(H_graph, Observed_DAG ,latent_conf, confTochild)\n",
    "        mxdata=0\n",
    "        for hnode in dataset:\n",
    "            all_data= dataset[hnode]\n",
    "            if len(all_data)>mxdata:\n",
    "                mxdata= len(all_data)\n",
    "\n",
    "\n",
    "        print(f'conf_prob:{conf_prob}, max_num_latent: {max_num_latent} mxcc:{mxcc}, mxdata:{mxdata} out of {len(label_names)} ')\n",
    "\n",
    "\n",
    "        curX.append(n)\n",
    "        mech.append(mxcc)\n",
    "        data.append(mxdata)\n",
    "\n",
    "    xaxis.append(np.mean(curX))\n",
    "    y1axis.append(np.mean(mech))\n",
    "    y2axis.append(np.mean(data))\n"
   ],
   "metadata": {
    "collapsed": false
   }
  },
  {
   "cell_type": "code",
   "execution_count": 25,
   "outputs": [
    {
     "data": {
      "text/plain": "{'xaxis': [5, 6, 8, 12, 16],\n 'mech': [17.2, 15.6, 20.8, 21.4, 22.2],\n 'data': [46.8, 46.6, 47.0, 48.2, 48.2]}"
     },
     "execution_count": 25,
     "metadata": {},
     "output_type": "execute_result"
    }
   ],
   "source": [],
   "metadata": {
    "collapsed": false
   }
  },
  {
   "cell_type": "code",
   "execution_count": null,
   "outputs": [],
   "source": [],
   "metadata": {
    "collapsed": false
   }
  },
  {
   "cell_type": "code",
   "execution_count": 13,
   "outputs": [
    {
     "data": {
      "text/plain": "<Figure size 800x500 with 1 Axes>",
      "image/svg+xml": "<?xml version=\"1.0\" encoding=\"utf-8\" standalone=\"no\"?>\n<!DOCTYPE svg PUBLIC \"-//W3C//DTD SVG 1.1//EN\"\n  \"http://www.w3.org/Graphics/SVG/1.1/DTD/svg11.dtd\">\n<svg xmlns:xlink=\"http://www.w3.org/1999/xlink\" width=\"522.101687pt\" height=\"326.09875pt\" viewBox=\"0 0 522.101687 326.09875\" xmlns=\"http://www.w3.org/2000/svg\" version=\"1.1\">\n <metadata>\n  <rdf:RDF xmlns:dc=\"http://purl.org/dc/elements/1.1/\" xmlns:cc=\"http://creativecommons.org/ns#\" xmlns:rdf=\"http://www.w3.org/1999/02/22-rdf-syntax-ns#\">\n   <cc:Work>\n    <dc:type rdf:resource=\"http://purl.org/dc/dcmitype/StillImage\"/>\n    <dc:date>2024-01-26T19:04:08.273487</dc:date>\n    <dc:format>image/svg+xml</dc:format>\n    <dc:creator>\n     <cc:Agent>\n      <dc:title>Matplotlib v3.8.2, https://matplotlib.org/</dc:title>\n     </cc:Agent>\n    </dc:creator>\n   </cc:Work>\n  </rdf:RDF>\n </metadata>\n <defs>\n  <style type=\"text/css\">*{stroke-linejoin: round; stroke-linecap: butt}</style>\n </defs>\n <g id=\"figure_1\">\n  <g id=\"patch_1\">\n   <path d=\"M 0 326.09875 \nL 522.101687 326.09875 \nL 522.101687 0 \nL 0 0 \nz\n\" style=\"fill: #ffffff\"/>\n  </g>\n  <g id=\"axes_1\">\n   <g id=\"patch_2\">\n    <path d=\"M 68.501688 280.8 \nL 514.901687 280.8 \nL 514.901687 7.2 \nL 68.501688 7.2 \nz\n\" style=\"fill: #ffffff\"/>\n   </g>\n   <g id=\"patch_3\">\n    <path d=\"M 88.792597 280.8 \nL 108.002304 280.8 \nL 108.002304 251.616 \nL 88.792597 251.616 \nz\n\" clip-path=\"url(#pd16d131926)\" style=\"fill: #1f77b4\"/>\n   </g>\n   <g id=\"patch_4\">\n    <path d=\"M 141.278135 280.8 \nL 160.487842 280.8 \nL 160.487842 250.573714 \nL 141.278135 250.573714 \nz\n\" clip-path=\"url(#pd16d131926)\" style=\"fill: #1f77b4\"/>\n   </g>\n   <g id=\"patch_5\">\n    <path d=\"M 193.763673 280.8 \nL 212.97338 280.8 \nL 212.97338 245.362286 \nL 193.763673 245.362286 \nz\n\" clip-path=\"url(#pd16d131926)\" style=\"fill: #1f77b4\"/>\n   </g>\n   <g id=\"patch_6\">\n    <path d=\"M 246.249211 280.8 \nL 265.458918 280.8 \nL 265.458918 228.685714 \nL 246.249211 228.685714 \nz\n\" clip-path=\"url(#pd16d131926)\" style=\"fill: #1f77b4\"/>\n   </g>\n   <g id=\"patch_7\">\n    <path d=\"M 298.73475 280.8 \nL 317.944457 280.8 \nL 317.944457 199.501714 \nL 298.73475 199.501714 \nz\n\" clip-path=\"url(#pd16d131926)\" style=\"fill: #1f77b4\"/>\n   </g>\n   <g id=\"patch_8\">\n    <path d=\"M 351.220288 280.8 \nL 370.429995 280.8 \nL 370.429995 197.417143 \nL 351.220288 197.417143 \nz\n\" clip-path=\"url(#pd16d131926)\" style=\"fill: #1f77b4\"/>\n   </g>\n   <g id=\"patch_9\">\n    <path d=\"M 403.705826 280.8 \nL 422.915533 280.8 \nL 422.915533 176.571429 \nL 403.705826 176.571429 \nz\n\" clip-path=\"url(#pd16d131926)\" style=\"fill: #1f77b4\"/>\n   </g>\n   <g id=\"patch_10\">\n    <path d=\"M 456.191364 280.8 \nL 475.401071 280.8 \nL 475.401071 178.656 \nL 456.191364 178.656 \nz\n\" clip-path=\"url(#pd16d131926)\" style=\"fill: #1f77b4\"/>\n   </g>\n   <g id=\"patch_11\">\n    <path d=\"M 108.002304 280.8 \nL 127.212011 280.8 \nL 127.212011 202.628571 \nL 108.002304 202.628571 \nz\n\" clip-path=\"url(#pd16d131926)\" style=\"fill: #ff7f0e\"/>\n   </g>\n   <g id=\"patch_12\">\n    <path d=\"M 160.487842 280.8 \nL 179.697549 280.8 \nL 179.697549 176.571429 \nL 160.487842 176.571429 \nz\n\" clip-path=\"url(#pd16d131926)\" style=\"fill: #ff7f0e\"/>\n   </g>\n   <g id=\"patch_13\">\n    <path d=\"M 212.97338 280.8 \nL 232.183087 280.8 \nL 232.183087 150.514286 \nL 212.97338 150.514286 \nz\n\" clip-path=\"url(#pd16d131926)\" style=\"fill: #ff7f0e\"/>\n   </g>\n   <g id=\"patch_14\">\n    <path d=\"M 265.458918 280.8 \nL 284.668625 280.8 \nL 284.668625 124.457143 \nL 265.458918 124.457143 \nz\n\" clip-path=\"url(#pd16d131926)\" style=\"fill: #ff7f0e\"/>\n   </g>\n   <g id=\"patch_15\">\n    <path d=\"M 317.944457 280.8 \nL 337.154164 280.8 \nL 337.154164 98.4 \nL 317.944457 98.4 \nz\n\" clip-path=\"url(#pd16d131926)\" style=\"fill: #ff7f0e\"/>\n   </g>\n   <g id=\"patch_16\">\n    <path d=\"M 370.429995 280.8 \nL 389.639702 280.8 \nL 389.639702 72.342857 \nL 370.429995 72.342857 \nz\n\" clip-path=\"url(#pd16d131926)\" style=\"fill: #ff7f0e\"/>\n   </g>\n   <g id=\"patch_17\">\n    <path d=\"M 422.915533 280.8 \nL 442.12524 280.8 \nL 442.12524 46.285714 \nL 422.915533 46.285714 \nz\n\" clip-path=\"url(#pd16d131926)\" style=\"fill: #ff7f0e\"/>\n   </g>\n   <g id=\"patch_18\">\n    <path d=\"M 475.401071 280.8 \nL 494.610778 280.8 \nL 494.610778 20.228571 \nL 475.401071 20.228571 \nz\n\" clip-path=\"url(#pd16d131926)\" style=\"fill: #ff7f0e\"/>\n   </g>\n   <g id=\"matplotlib.axis_1\">\n    <g id=\"xtick_1\">\n     <g id=\"line2d_1\">\n      <defs>\n       <path id=\"mf81ee23e7a\" d=\"M 0 0 \nL 0 3.5 \n\" style=\"stroke: #000000; stroke-width: 0.8\"/>\n      </defs>\n      <g>\n       <use xlink:href=\"#mf81ee23e7a\" x=\"98.39745\" y=\"280.8\" style=\"stroke: #000000; stroke-width: 0.8\"/>\n      </g>\n     </g>\n     <g id=\"text_1\">\n      <!-- 15 -->\n      <g transform=\"translate(92.03495 295.398438) scale(0.1 -0.1)\">\n       <defs>\n        <path id=\"DejaVuSans-31\" d=\"M 794 531 \nL 1825 531 \nL 1825 4091 \nL 703 3866 \nL 703 4441 \nL 1819 4666 \nL 2450 4666 \nL 2450 531 \nL 3481 531 \nL 3481 0 \nL 794 0 \nL 794 531 \nz\n\" transform=\"scale(0.015625)\"/>\n        <path id=\"DejaVuSans-35\" d=\"M 691 4666 \nL 3169 4666 \nL 3169 4134 \nL 1269 4134 \nL 1269 2991 \nQ 1406 3038 1543 3061 \nQ 1681 3084 1819 3084 \nQ 2600 3084 3056 2656 \nQ 3513 2228 3513 1497 \nQ 3513 744 3044 326 \nQ 2575 -91 1722 -91 \nQ 1428 -91 1123 -41 \nQ 819 9 494 109 \nL 494 744 \nQ 775 591 1075 516 \nQ 1375 441 1709 441 \nQ 2250 441 2565 725 \nQ 2881 1009 2881 1497 \nQ 2881 1984 2565 2268 \nQ 2250 2553 1709 2553 \nQ 1456 2553 1204 2497 \nQ 953 2441 691 2322 \nL 691 4666 \nz\n\" transform=\"scale(0.015625)\"/>\n       </defs>\n       <use xlink:href=\"#DejaVuSans-31\"/>\n       <use xlink:href=\"#DejaVuSans-35\" x=\"63.623047\"/>\n      </g>\n     </g>\n    </g>\n    <g id=\"xtick_2\">\n     <g id=\"line2d_2\">\n      <g>\n       <use xlink:href=\"#mf81ee23e7a\" x=\"150.882988\" y=\"280.8\" style=\"stroke: #000000; stroke-width: 0.8\"/>\n      </g>\n     </g>\n     <g id=\"text_2\">\n      <!-- 20 -->\n      <g transform=\"translate(144.520488 295.398438) scale(0.1 -0.1)\">\n       <defs>\n        <path id=\"DejaVuSans-32\" d=\"M 1228 531 \nL 3431 531 \nL 3431 0 \nL 469 0 \nL 469 531 \nQ 828 903 1448 1529 \nQ 2069 2156 2228 2338 \nQ 2531 2678 2651 2914 \nQ 2772 3150 2772 3378 \nQ 2772 3750 2511 3984 \nQ 2250 4219 1831 4219 \nQ 1534 4219 1204 4116 \nQ 875 4013 500 3803 \nL 500 4441 \nQ 881 4594 1212 4672 \nQ 1544 4750 1819 4750 \nQ 2544 4750 2975 4387 \nQ 3406 4025 3406 3419 \nQ 3406 3131 3298 2873 \nQ 3191 2616 2906 2266 \nQ 2828 2175 2409 1742 \nQ 1991 1309 1228 531 \nz\n\" transform=\"scale(0.015625)\"/>\n        <path id=\"DejaVuSans-30\" d=\"M 2034 4250 \nQ 1547 4250 1301 3770 \nQ 1056 3291 1056 2328 \nQ 1056 1369 1301 889 \nQ 1547 409 2034 409 \nQ 2525 409 2770 889 \nQ 3016 1369 3016 2328 \nQ 3016 3291 2770 3770 \nQ 2525 4250 2034 4250 \nz\nM 2034 4750 \nQ 2819 4750 3233 4129 \nQ 3647 3509 3647 2328 \nQ 3647 1150 3233 529 \nQ 2819 -91 2034 -91 \nQ 1250 -91 836 529 \nQ 422 1150 422 2328 \nQ 422 3509 836 4129 \nQ 1250 4750 2034 4750 \nz\n\" transform=\"scale(0.015625)\"/>\n       </defs>\n       <use xlink:href=\"#DejaVuSans-32\"/>\n       <use xlink:href=\"#DejaVuSans-30\" x=\"63.623047\"/>\n      </g>\n     </g>\n    </g>\n    <g id=\"xtick_3\">\n     <g id=\"line2d_3\">\n      <g>\n       <use xlink:href=\"#mf81ee23e7a\" x=\"203.368527\" y=\"280.8\" style=\"stroke: #000000; stroke-width: 0.8\"/>\n      </g>\n     </g>\n     <g id=\"text_3\">\n      <!-- 25 -->\n      <g transform=\"translate(197.006027 295.398438) scale(0.1 -0.1)\">\n       <use xlink:href=\"#DejaVuSans-32\"/>\n       <use xlink:href=\"#DejaVuSans-35\" x=\"63.623047\"/>\n      </g>\n     </g>\n    </g>\n    <g id=\"xtick_4\">\n     <g id=\"line2d_4\">\n      <g>\n       <use xlink:href=\"#mf81ee23e7a\" x=\"255.854065\" y=\"280.8\" style=\"stroke: #000000; stroke-width: 0.8\"/>\n      </g>\n     </g>\n     <g id=\"text_4\">\n      <!-- 30 -->\n      <g transform=\"translate(249.491565 295.398438) scale(0.1 -0.1)\">\n       <defs>\n        <path id=\"DejaVuSans-33\" d=\"M 2597 2516 \nQ 3050 2419 3304 2112 \nQ 3559 1806 3559 1356 \nQ 3559 666 3084 287 \nQ 2609 -91 1734 -91 \nQ 1441 -91 1130 -33 \nQ 819 25 488 141 \nL 488 750 \nQ 750 597 1062 519 \nQ 1375 441 1716 441 \nQ 2309 441 2620 675 \nQ 2931 909 2931 1356 \nQ 2931 1769 2642 2001 \nQ 2353 2234 1838 2234 \nL 1294 2234 \nL 1294 2753 \nL 1863 2753 \nQ 2328 2753 2575 2939 \nQ 2822 3125 2822 3475 \nQ 2822 3834 2567 4026 \nQ 2313 4219 1838 4219 \nQ 1578 4219 1281 4162 \nQ 984 4106 628 3988 \nL 628 4550 \nQ 988 4650 1302 4700 \nQ 1616 4750 1894 4750 \nQ 2613 4750 3031 4423 \nQ 3450 4097 3450 3541 \nQ 3450 3153 3228 2886 \nQ 3006 2619 2597 2516 \nz\n\" transform=\"scale(0.015625)\"/>\n       </defs>\n       <use xlink:href=\"#DejaVuSans-33\"/>\n       <use xlink:href=\"#DejaVuSans-30\" x=\"63.623047\"/>\n      </g>\n     </g>\n    </g>\n    <g id=\"xtick_5\">\n     <g id=\"line2d_5\">\n      <g>\n       <use xlink:href=\"#mf81ee23e7a\" x=\"308.339603\" y=\"280.8\" style=\"stroke: #000000; stroke-width: 0.8\"/>\n      </g>\n     </g>\n     <g id=\"text_5\">\n      <!-- 35 -->\n      <g transform=\"translate(301.977103 295.398438) scale(0.1 -0.1)\">\n       <use xlink:href=\"#DejaVuSans-33\"/>\n       <use xlink:href=\"#DejaVuSans-35\" x=\"63.623047\"/>\n      </g>\n     </g>\n    </g>\n    <g id=\"xtick_6\">\n     <g id=\"line2d_6\">\n      <g>\n       <use xlink:href=\"#mf81ee23e7a\" x=\"360.825141\" y=\"280.8\" style=\"stroke: #000000; stroke-width: 0.8\"/>\n      </g>\n     </g>\n     <g id=\"text_6\">\n      <!-- 40 -->\n      <g transform=\"translate(354.462641 295.398438) scale(0.1 -0.1)\">\n       <defs>\n        <path id=\"DejaVuSans-34\" d=\"M 2419 4116 \nL 825 1625 \nL 2419 1625 \nL 2419 4116 \nz\nM 2253 4666 \nL 3047 4666 \nL 3047 1625 \nL 3713 1625 \nL 3713 1100 \nL 3047 1100 \nL 3047 0 \nL 2419 0 \nL 2419 1100 \nL 313 1100 \nL 313 1709 \nL 2253 4666 \nz\n\" transform=\"scale(0.015625)\"/>\n       </defs>\n       <use xlink:href=\"#DejaVuSans-34\"/>\n       <use xlink:href=\"#DejaVuSans-30\" x=\"63.623047\"/>\n      </g>\n     </g>\n    </g>\n    <g id=\"xtick_7\">\n     <g id=\"line2d_7\">\n      <g>\n       <use xlink:href=\"#mf81ee23e7a\" x=\"413.31068\" y=\"280.8\" style=\"stroke: #000000; stroke-width: 0.8\"/>\n      </g>\n     </g>\n     <g id=\"text_7\">\n      <!-- 45 -->\n      <g transform=\"translate(406.94818 295.398438) scale(0.1 -0.1)\">\n       <use xlink:href=\"#DejaVuSans-34\"/>\n       <use xlink:href=\"#DejaVuSans-35\" x=\"63.623047\"/>\n      </g>\n     </g>\n    </g>\n    <g id=\"xtick_8\">\n     <g id=\"line2d_8\">\n      <g>\n       <use xlink:href=\"#mf81ee23e7a\" x=\"465.796218\" y=\"280.8\" style=\"stroke: #000000; stroke-width: 0.8\"/>\n      </g>\n     </g>\n     <g id=\"text_8\">\n      <!-- 50 -->\n      <g transform=\"translate(459.433718 295.398438) scale(0.1 -0.1)\">\n       <use xlink:href=\"#DejaVuSans-35\"/>\n       <use xlink:href=\"#DejaVuSans-30\" x=\"63.623047\"/>\n      </g>\n     </g>\n    </g>\n    <g id=\"text_9\">\n     <!-- Number of nodes (N) -->\n     <g transform=\"translate(197.3845 315.155312) scale(0.18 -0.18)\">\n      <defs>\n       <path id=\"DejaVuSans-4e\" d=\"M 628 4666 \nL 1478 4666 \nL 3547 763 \nL 3547 4666 \nL 4159 4666 \nL 4159 0 \nL 3309 0 \nL 1241 3903 \nL 1241 0 \nL 628 0 \nL 628 4666 \nz\n\" transform=\"scale(0.015625)\"/>\n       <path id=\"DejaVuSans-75\" d=\"M 544 1381 \nL 544 3500 \nL 1119 3500 \nL 1119 1403 \nQ 1119 906 1312 657 \nQ 1506 409 1894 409 \nQ 2359 409 2629 706 \nQ 2900 1003 2900 1516 \nL 2900 3500 \nL 3475 3500 \nL 3475 0 \nL 2900 0 \nL 2900 538 \nQ 2691 219 2414 64 \nQ 2138 -91 1772 -91 \nQ 1169 -91 856 284 \nQ 544 659 544 1381 \nz\nM 1991 3584 \nL 1991 3584 \nz\n\" transform=\"scale(0.015625)\"/>\n       <path id=\"DejaVuSans-6d\" d=\"M 3328 2828 \nQ 3544 3216 3844 3400 \nQ 4144 3584 4550 3584 \nQ 5097 3584 5394 3201 \nQ 5691 2819 5691 2113 \nL 5691 0 \nL 5113 0 \nL 5113 2094 \nQ 5113 2597 4934 2840 \nQ 4756 3084 4391 3084 \nQ 3944 3084 3684 2787 \nQ 3425 2491 3425 1978 \nL 3425 0 \nL 2847 0 \nL 2847 2094 \nQ 2847 2600 2669 2842 \nQ 2491 3084 2119 3084 \nQ 1678 3084 1418 2786 \nQ 1159 2488 1159 1978 \nL 1159 0 \nL 581 0 \nL 581 3500 \nL 1159 3500 \nL 1159 2956 \nQ 1356 3278 1631 3431 \nQ 1906 3584 2284 3584 \nQ 2666 3584 2933 3390 \nQ 3200 3197 3328 2828 \nz\n\" transform=\"scale(0.015625)\"/>\n       <path id=\"DejaVuSans-62\" d=\"M 3116 1747 \nQ 3116 2381 2855 2742 \nQ 2594 3103 2138 3103 \nQ 1681 3103 1420 2742 \nQ 1159 2381 1159 1747 \nQ 1159 1113 1420 752 \nQ 1681 391 2138 391 \nQ 2594 391 2855 752 \nQ 3116 1113 3116 1747 \nz\nM 1159 2969 \nQ 1341 3281 1617 3432 \nQ 1894 3584 2278 3584 \nQ 2916 3584 3314 3078 \nQ 3713 2572 3713 1747 \nQ 3713 922 3314 415 \nQ 2916 -91 2278 -91 \nQ 1894 -91 1617 61 \nQ 1341 213 1159 525 \nL 1159 0 \nL 581 0 \nL 581 4863 \nL 1159 4863 \nL 1159 2969 \nz\n\" transform=\"scale(0.015625)\"/>\n       <path id=\"DejaVuSans-65\" d=\"M 3597 1894 \nL 3597 1613 \nL 953 1613 \nQ 991 1019 1311 708 \nQ 1631 397 2203 397 \nQ 2534 397 2845 478 \nQ 3156 559 3463 722 \nL 3463 178 \nQ 3153 47 2828 -22 \nQ 2503 -91 2169 -91 \nQ 1331 -91 842 396 \nQ 353 884 353 1716 \nQ 353 2575 817 3079 \nQ 1281 3584 2069 3584 \nQ 2775 3584 3186 3129 \nQ 3597 2675 3597 1894 \nz\nM 3022 2063 \nQ 3016 2534 2758 2815 \nQ 2500 3097 2075 3097 \nQ 1594 3097 1305 2825 \nQ 1016 2553 972 2059 \nL 3022 2063 \nz\n\" transform=\"scale(0.015625)\"/>\n       <path id=\"DejaVuSans-72\" d=\"M 2631 2963 \nQ 2534 3019 2420 3045 \nQ 2306 3072 2169 3072 \nQ 1681 3072 1420 2755 \nQ 1159 2438 1159 1844 \nL 1159 0 \nL 581 0 \nL 581 3500 \nL 1159 3500 \nL 1159 2956 \nQ 1341 3275 1631 3429 \nQ 1922 3584 2338 3584 \nQ 2397 3584 2469 3576 \nQ 2541 3569 2628 3553 \nL 2631 2963 \nz\n\" transform=\"scale(0.015625)\"/>\n       <path id=\"DejaVuSans-20\" transform=\"scale(0.015625)\"/>\n       <path id=\"DejaVuSans-6f\" d=\"M 1959 3097 \nQ 1497 3097 1228 2736 \nQ 959 2375 959 1747 \nQ 959 1119 1226 758 \nQ 1494 397 1959 397 \nQ 2419 397 2687 759 \nQ 2956 1122 2956 1747 \nQ 2956 2369 2687 2733 \nQ 2419 3097 1959 3097 \nz\nM 1959 3584 \nQ 2709 3584 3137 3096 \nQ 3566 2609 3566 1747 \nQ 3566 888 3137 398 \nQ 2709 -91 1959 -91 \nQ 1206 -91 779 398 \nQ 353 888 353 1747 \nQ 353 2609 779 3096 \nQ 1206 3584 1959 3584 \nz\n\" transform=\"scale(0.015625)\"/>\n       <path id=\"DejaVuSans-66\" d=\"M 2375 4863 \nL 2375 4384 \nL 1825 4384 \nQ 1516 4384 1395 4259 \nQ 1275 4134 1275 3809 \nL 1275 3500 \nL 2222 3500 \nL 2222 3053 \nL 1275 3053 \nL 1275 0 \nL 697 0 \nL 697 3053 \nL 147 3053 \nL 147 3500 \nL 697 3500 \nL 697 3744 \nQ 697 4328 969 4595 \nQ 1241 4863 1831 4863 \nL 2375 4863 \nz\n\" transform=\"scale(0.015625)\"/>\n       <path id=\"DejaVuSans-6e\" d=\"M 3513 2113 \nL 3513 0 \nL 2938 0 \nL 2938 2094 \nQ 2938 2591 2744 2837 \nQ 2550 3084 2163 3084 \nQ 1697 3084 1428 2787 \nQ 1159 2491 1159 1978 \nL 1159 0 \nL 581 0 \nL 581 3500 \nL 1159 3500 \nL 1159 2956 \nQ 1366 3272 1645 3428 \nQ 1925 3584 2291 3584 \nQ 2894 3584 3203 3211 \nQ 3513 2838 3513 2113 \nz\n\" transform=\"scale(0.015625)\"/>\n       <path id=\"DejaVuSans-64\" d=\"M 2906 2969 \nL 2906 4863 \nL 3481 4863 \nL 3481 0 \nL 2906 0 \nL 2906 525 \nQ 2725 213 2448 61 \nQ 2172 -91 1784 -91 \nQ 1150 -91 751 415 \nQ 353 922 353 1747 \nQ 353 2572 751 3078 \nQ 1150 3584 1784 3584 \nQ 2172 3584 2448 3432 \nQ 2725 3281 2906 2969 \nz\nM 947 1747 \nQ 947 1113 1208 752 \nQ 1469 391 1925 391 \nQ 2381 391 2643 752 \nQ 2906 1113 2906 1747 \nQ 2906 2381 2643 2742 \nQ 2381 3103 1925 3103 \nQ 1469 3103 1208 2742 \nQ 947 2381 947 1747 \nz\n\" transform=\"scale(0.015625)\"/>\n       <path id=\"DejaVuSans-73\" d=\"M 2834 3397 \nL 2834 2853 \nQ 2591 2978 2328 3040 \nQ 2066 3103 1784 3103 \nQ 1356 3103 1142 2972 \nQ 928 2841 928 2578 \nQ 928 2378 1081 2264 \nQ 1234 2150 1697 2047 \nL 1894 2003 \nQ 2506 1872 2764 1633 \nQ 3022 1394 3022 966 \nQ 3022 478 2636 193 \nQ 2250 -91 1575 -91 \nQ 1294 -91 989 -36 \nQ 684 19 347 128 \nL 347 722 \nQ 666 556 975 473 \nQ 1284 391 1588 391 \nQ 1994 391 2212 530 \nQ 2431 669 2431 922 \nQ 2431 1156 2273 1281 \nQ 2116 1406 1581 1522 \nL 1381 1569 \nQ 847 1681 609 1914 \nQ 372 2147 372 2553 \nQ 372 3047 722 3315 \nQ 1072 3584 1716 3584 \nQ 2034 3584 2315 3537 \nQ 2597 3491 2834 3397 \nz\n\" transform=\"scale(0.015625)\"/>\n       <path id=\"DejaVuSans-28\" d=\"M 1984 4856 \nQ 1566 4138 1362 3434 \nQ 1159 2731 1159 2009 \nQ 1159 1288 1364 580 \nQ 1569 -128 1984 -844 \nL 1484 -844 \nQ 1016 -109 783 600 \nQ 550 1309 550 2009 \nQ 550 2706 781 3412 \nQ 1013 4119 1484 4856 \nL 1984 4856 \nz\n\" transform=\"scale(0.015625)\"/>\n       <path id=\"DejaVuSans-29\" d=\"M 513 4856 \nL 1013 4856 \nQ 1481 4119 1714 3412 \nQ 1947 2706 1947 2009 \nQ 1947 1309 1714 600 \nQ 1481 -109 1013 -844 \nL 513 -844 \nQ 928 -128 1133 580 \nQ 1338 1288 1338 2009 \nQ 1338 2731 1133 3434 \nQ 928 4138 513 4856 \nz\n\" transform=\"scale(0.015625)\"/>\n      </defs>\n      <use xlink:href=\"#DejaVuSans-4e\"/>\n      <use xlink:href=\"#DejaVuSans-75\" x=\"74.804688\"/>\n      <use xlink:href=\"#DejaVuSans-6d\" x=\"138.183594\"/>\n      <use xlink:href=\"#DejaVuSans-62\" x=\"235.595703\"/>\n      <use xlink:href=\"#DejaVuSans-65\" x=\"299.072266\"/>\n      <use xlink:href=\"#DejaVuSans-72\" x=\"360.595703\"/>\n      <use xlink:href=\"#DejaVuSans-20\" x=\"401.708984\"/>\n      <use xlink:href=\"#DejaVuSans-6f\" x=\"433.496094\"/>\n      <use xlink:href=\"#DejaVuSans-66\" x=\"494.677734\"/>\n      <use xlink:href=\"#DejaVuSans-20\" x=\"529.882812\"/>\n      <use xlink:href=\"#DejaVuSans-6e\" x=\"561.669922\"/>\n      <use xlink:href=\"#DejaVuSans-6f\" x=\"625.048828\"/>\n      <use xlink:href=\"#DejaVuSans-64\" x=\"686.230469\"/>\n      <use xlink:href=\"#DejaVuSans-65\" x=\"749.707031\"/>\n      <use xlink:href=\"#DejaVuSans-73\" x=\"811.230469\"/>\n      <use xlink:href=\"#DejaVuSans-20\" x=\"863.330078\"/>\n      <use xlink:href=\"#DejaVuSans-28\" x=\"895.117188\"/>\n      <use xlink:href=\"#DejaVuSans-4e\" x=\"934.130859\"/>\n      <use xlink:href=\"#DejaVuSans-29\" x=\"1008.935547\"/>\n     </g>\n    </g>\n   </g>\n   <g id=\"matplotlib.axis_2\">\n    <g id=\"ytick_1\">\n     <g id=\"line2d_9\">\n      <defs>\n       <path id=\"md4642f8452\" d=\"M 0 0 \nL -3.5 0 \n\" style=\"stroke: #000000; stroke-width: 0.8\"/>\n      </defs>\n      <g>\n       <use xlink:href=\"#md4642f8452\" x=\"68.501688\" y=\"280.8\" style=\"stroke: #000000; stroke-width: 0.8\"/>\n      </g>\n     </g>\n     <g id=\"text_10\">\n      <!-- 0 -->\n      <g transform=\"translate(55.139188 284.599219) scale(0.1 -0.1)\">\n       <use xlink:href=\"#DejaVuSans-30\"/>\n      </g>\n     </g>\n    </g>\n    <g id=\"ytick_2\">\n     <g id=\"line2d_10\">\n      <g>\n       <use xlink:href=\"#md4642f8452\" x=\"68.501688\" y=\"228.685714\" style=\"stroke: #000000; stroke-width: 0.8\"/>\n      </g>\n     </g>\n     <g id=\"text_11\">\n      <!-- 10 -->\n      <g transform=\"translate(48.776688 232.484933) scale(0.1 -0.1)\">\n       <use xlink:href=\"#DejaVuSans-31\"/>\n       <use xlink:href=\"#DejaVuSans-30\" x=\"63.623047\"/>\n      </g>\n     </g>\n    </g>\n    <g id=\"ytick_3\">\n     <g id=\"line2d_11\">\n      <g>\n       <use xlink:href=\"#md4642f8452\" x=\"68.501688\" y=\"176.571429\" style=\"stroke: #000000; stroke-width: 0.8\"/>\n      </g>\n     </g>\n     <g id=\"text_12\">\n      <!-- 20 -->\n      <g transform=\"translate(48.776688 180.370647) scale(0.1 -0.1)\">\n       <use xlink:href=\"#DejaVuSans-32\"/>\n       <use xlink:href=\"#DejaVuSans-30\" x=\"63.623047\"/>\n      </g>\n     </g>\n    </g>\n    <g id=\"ytick_4\">\n     <g id=\"line2d_12\">\n      <g>\n       <use xlink:href=\"#md4642f8452\" x=\"68.501688\" y=\"124.457143\" style=\"stroke: #000000; stroke-width: 0.8\"/>\n      </g>\n     </g>\n     <g id=\"text_13\">\n      <!-- 30 -->\n      <g transform=\"translate(48.776688 128.256362) scale(0.1 -0.1)\">\n       <use xlink:href=\"#DejaVuSans-33\"/>\n       <use xlink:href=\"#DejaVuSans-30\" x=\"63.623047\"/>\n      </g>\n     </g>\n    </g>\n    <g id=\"ytick_5\">\n     <g id=\"line2d_13\">\n      <g>\n       <use xlink:href=\"#md4642f8452\" x=\"68.501688\" y=\"72.342857\" style=\"stroke: #000000; stroke-width: 0.8\"/>\n      </g>\n     </g>\n     <g id=\"text_14\">\n      <!-- 40 -->\n      <g transform=\"translate(48.776688 76.142076) scale(0.1 -0.1)\">\n       <use xlink:href=\"#DejaVuSans-34\"/>\n       <use xlink:href=\"#DejaVuSans-30\" x=\"63.623047\"/>\n      </g>\n     </g>\n    </g>\n    <g id=\"ytick_6\">\n     <g id=\"line2d_14\">\n      <g>\n       <use xlink:href=\"#md4642f8452\" x=\"68.501688\" y=\"20.228571\" style=\"stroke: #000000; stroke-width: 0.8\"/>\n      </g>\n     </g>\n     <g id=\"text_15\">\n      <!-- 50 -->\n      <g transform=\"translate(48.776688 24.02779) scale(0.1 -0.1)\">\n       <use xlink:href=\"#DejaVuSans-35\"/>\n       <use xlink:href=\"#DejaVuSans-30\" x=\"63.623047\"/>\n      </g>\n     </g>\n    </g>\n    <g id=\"text_16\">\n     <!-- Largest number of models  -->\n     <g transform=\"translate(20.877188 265.495781) rotate(-90) scale(0.18 -0.18)\">\n      <defs>\n       <path id=\"DejaVuSans-4c\" d=\"M 628 4666 \nL 1259 4666 \nL 1259 531 \nL 3531 531 \nL 3531 0 \nL 628 0 \nL 628 4666 \nz\n\" transform=\"scale(0.015625)\"/>\n       <path id=\"DejaVuSans-61\" d=\"M 2194 1759 \nQ 1497 1759 1228 1600 \nQ 959 1441 959 1056 \nQ 959 750 1161 570 \nQ 1363 391 1709 391 \nQ 2188 391 2477 730 \nQ 2766 1069 2766 1631 \nL 2766 1759 \nL 2194 1759 \nz\nM 3341 1997 \nL 3341 0 \nL 2766 0 \nL 2766 531 \nQ 2569 213 2275 61 \nQ 1981 -91 1556 -91 \nQ 1019 -91 701 211 \nQ 384 513 384 1019 \nQ 384 1609 779 1909 \nQ 1175 2209 1959 2209 \nL 2766 2209 \nL 2766 2266 \nQ 2766 2663 2505 2880 \nQ 2244 3097 1772 3097 \nQ 1472 3097 1187 3025 \nQ 903 2953 641 2809 \nL 641 3341 \nQ 956 3463 1253 3523 \nQ 1550 3584 1831 3584 \nQ 2591 3584 2966 3190 \nQ 3341 2797 3341 1997 \nz\n\" transform=\"scale(0.015625)\"/>\n       <path id=\"DejaVuSans-67\" d=\"M 2906 1791 \nQ 2906 2416 2648 2759 \nQ 2391 3103 1925 3103 \nQ 1463 3103 1205 2759 \nQ 947 2416 947 1791 \nQ 947 1169 1205 825 \nQ 1463 481 1925 481 \nQ 2391 481 2648 825 \nQ 2906 1169 2906 1791 \nz\nM 3481 434 \nQ 3481 -459 3084 -895 \nQ 2688 -1331 1869 -1331 \nQ 1566 -1331 1297 -1286 \nQ 1028 -1241 775 -1147 \nL 775 -588 \nQ 1028 -725 1275 -790 \nQ 1522 -856 1778 -856 \nQ 2344 -856 2625 -561 \nQ 2906 -266 2906 331 \nL 2906 616 \nQ 2728 306 2450 153 \nQ 2172 0 1784 0 \nQ 1141 0 747 490 \nQ 353 981 353 1791 \nQ 353 2603 747 3093 \nQ 1141 3584 1784 3584 \nQ 2172 3584 2450 3431 \nQ 2728 3278 2906 2969 \nL 2906 3500 \nL 3481 3500 \nL 3481 434 \nz\n\" transform=\"scale(0.015625)\"/>\n       <path id=\"DejaVuSans-74\" d=\"M 1172 4494 \nL 1172 3500 \nL 2356 3500 \nL 2356 3053 \nL 1172 3053 \nL 1172 1153 \nQ 1172 725 1289 603 \nQ 1406 481 1766 481 \nL 2356 481 \nL 2356 0 \nL 1766 0 \nQ 1100 0 847 248 \nQ 594 497 594 1153 \nL 594 3053 \nL 172 3053 \nL 172 3500 \nL 594 3500 \nL 594 4494 \nL 1172 4494 \nz\n\" transform=\"scale(0.015625)\"/>\n       <path id=\"DejaVuSans-6c\" d=\"M 603 4863 \nL 1178 4863 \nL 1178 0 \nL 603 0 \nL 603 4863 \nz\n\" transform=\"scale(0.015625)\"/>\n      </defs>\n      <use xlink:href=\"#DejaVuSans-4c\"/>\n      <use xlink:href=\"#DejaVuSans-61\" x=\"55.712891\"/>\n      <use xlink:href=\"#DejaVuSans-72\" x=\"116.992188\"/>\n      <use xlink:href=\"#DejaVuSans-67\" x=\"156.355469\"/>\n      <use xlink:href=\"#DejaVuSans-65\" x=\"219.832031\"/>\n      <use xlink:href=\"#DejaVuSans-73\" x=\"281.355469\"/>\n      <use xlink:href=\"#DejaVuSans-74\" x=\"333.455078\"/>\n      <use xlink:href=\"#DejaVuSans-20\" x=\"372.664062\"/>\n      <use xlink:href=\"#DejaVuSans-6e\" x=\"404.451172\"/>\n      <use xlink:href=\"#DejaVuSans-75\" x=\"467.830078\"/>\n      <use xlink:href=\"#DejaVuSans-6d\" x=\"531.208984\"/>\n      <use xlink:href=\"#DejaVuSans-62\" x=\"628.621094\"/>\n      <use xlink:href=\"#DejaVuSans-65\" x=\"692.097656\"/>\n      <use xlink:href=\"#DejaVuSans-72\" x=\"753.621094\"/>\n      <use xlink:href=\"#DejaVuSans-20\" x=\"794.734375\"/>\n      <use xlink:href=\"#DejaVuSans-6f\" x=\"826.521484\"/>\n      <use xlink:href=\"#DejaVuSans-66\" x=\"887.703125\"/>\n      <use xlink:href=\"#DejaVuSans-20\" x=\"922.908203\"/>\n      <use xlink:href=\"#DejaVuSans-6d\" x=\"954.695312\"/>\n      <use xlink:href=\"#DejaVuSans-6f\" x=\"1052.107422\"/>\n      <use xlink:href=\"#DejaVuSans-64\" x=\"1113.289062\"/>\n      <use xlink:href=\"#DejaVuSans-65\" x=\"1176.765625\"/>\n      <use xlink:href=\"#DejaVuSans-6c\" x=\"1238.289062\"/>\n      <use xlink:href=\"#DejaVuSans-73\" x=\"1266.072266\"/>\n      <use xlink:href=\"#DejaVuSans-20\" x=\"1318.171875\"/>\n     </g>\n     <!--  trained together -->\n     <g transform=\"translate(41.03325 220.675781) rotate(-90) scale(0.18 -0.18)\">\n      <defs>\n       <path id=\"DejaVuSans-69\" d=\"M 603 3500 \nL 1178 3500 \nL 1178 0 \nL 603 0 \nL 603 3500 \nz\nM 603 4863 \nL 1178 4863 \nL 1178 4134 \nL 603 4134 \nL 603 4863 \nz\n\" transform=\"scale(0.015625)\"/>\n       <path id=\"DejaVuSans-68\" d=\"M 3513 2113 \nL 3513 0 \nL 2938 0 \nL 2938 2094 \nQ 2938 2591 2744 2837 \nQ 2550 3084 2163 3084 \nQ 1697 3084 1428 2787 \nQ 1159 2491 1159 1978 \nL 1159 0 \nL 581 0 \nL 581 4863 \nL 1159 4863 \nL 1159 2956 \nQ 1366 3272 1645 3428 \nQ 1925 3584 2291 3584 \nQ 2894 3584 3203 3211 \nQ 3513 2838 3513 2113 \nz\n\" transform=\"scale(0.015625)\"/>\n      </defs>\n      <use xlink:href=\"#DejaVuSans-20\"/>\n      <use xlink:href=\"#DejaVuSans-74\" x=\"31.787109\"/>\n      <use xlink:href=\"#DejaVuSans-72\" x=\"70.996094\"/>\n      <use xlink:href=\"#DejaVuSans-61\" x=\"112.109375\"/>\n      <use xlink:href=\"#DejaVuSans-69\" x=\"173.388672\"/>\n      <use xlink:href=\"#DejaVuSans-6e\" x=\"201.171875\"/>\n      <use xlink:href=\"#DejaVuSans-65\" x=\"264.550781\"/>\n      <use xlink:href=\"#DejaVuSans-64\" x=\"326.074219\"/>\n      <use xlink:href=\"#DejaVuSans-20\" x=\"389.550781\"/>\n      <use xlink:href=\"#DejaVuSans-74\" x=\"421.337891\"/>\n      <use xlink:href=\"#DejaVuSans-6f\" x=\"460.546875\"/>\n      <use xlink:href=\"#DejaVuSans-67\" x=\"521.728516\"/>\n      <use xlink:href=\"#DejaVuSans-65\" x=\"585.205078\"/>\n      <use xlink:href=\"#DejaVuSans-74\" x=\"646.728516\"/>\n      <use xlink:href=\"#DejaVuSans-68\" x=\"685.9375\"/>\n      <use xlink:href=\"#DejaVuSans-65\" x=\"749.316406\"/>\n      <use xlink:href=\"#DejaVuSans-72\" x=\"810.839844\"/>\n     </g>\n    </g>\n   </g>\n   <g id=\"patch_19\">\n    <path d=\"M 68.501688 280.8 \nL 68.501688 7.2 \n\" style=\"fill: none; stroke: #000000; stroke-width: 0.8; stroke-linejoin: miter; stroke-linecap: square\"/>\n   </g>\n   <g id=\"patch_20\">\n    <path d=\"M 514.901687 280.8 \nL 514.901687 7.2 \n\" style=\"fill: none; stroke: #000000; stroke-width: 0.8; stroke-linejoin: miter; stroke-linecap: square\"/>\n   </g>\n   <g id=\"patch_21\">\n    <path d=\"M 68.501688 280.8 \nL 514.901687 280.8 \n\" style=\"fill: none; stroke: #000000; stroke-width: 0.8; stroke-linejoin: miter; stroke-linecap: square\"/>\n   </g>\n   <g id=\"patch_22\">\n    <path d=\"M 68.501688 7.2 \nL 514.901687 7.2 \n\" style=\"fill: none; stroke: #000000; stroke-width: 0.8; stroke-linejoin: miter; stroke-linecap: square\"/>\n   </g>\n   <g id=\"legend_1\">\n    <g id=\"patch_23\">\n     <path d=\"M 79.701688 66.97 \nL 295.039188 66.97 \nQ 298.239188 66.97 298.239188 63.77 \nL 298.239188 18.4 \nQ 298.239188 15.2 295.039188 15.2 \nL 79.701688 15.2 \nQ 76.501688 15.2 76.501688 18.4 \nL 76.501688 63.77 \nQ 76.501688 66.97 79.701688 66.97 \nz\n\" style=\"fill: #ffffff; opacity: 0.8; stroke: #cccccc; stroke-linejoin: miter\"/>\n    </g>\n    <g id=\"patch_24\">\n     <path d=\"M 82.901688 33.7575 \nL 114.901688 33.7575 \nL 114.901688 22.5575 \nL 82.901688 22.5575 \nz\n\" style=\"fill: #1f77b4\"/>\n    </g>\n    <g id=\"text_17\">\n     <!-- Modular-DCM -->\n     <g transform=\"translate(127.701688 33.7575) scale(0.16 -0.16)\">\n      <defs>\n       <path id=\"DejaVuSans-4d\" d=\"M 628 4666 \nL 1569 4666 \nL 2759 1491 \nL 3956 4666 \nL 4897 4666 \nL 4897 0 \nL 4281 0 \nL 4281 4097 \nL 3078 897 \nL 2444 897 \nL 1241 4097 \nL 1241 0 \nL 628 0 \nL 628 4666 \nz\n\" transform=\"scale(0.015625)\"/>\n       <path id=\"DejaVuSans-2d\" d=\"M 313 2009 \nL 1997 2009 \nL 1997 1497 \nL 313 1497 \nL 313 2009 \nz\n\" transform=\"scale(0.015625)\"/>\n       <path id=\"DejaVuSans-44\" d=\"M 1259 4147 \nL 1259 519 \nL 2022 519 \nQ 2988 519 3436 956 \nQ 3884 1394 3884 2338 \nQ 3884 3275 3436 3711 \nQ 2988 4147 2022 4147 \nL 1259 4147 \nz\nM 628 4666 \nL 1925 4666 \nQ 3281 4666 3915 4102 \nQ 4550 3538 4550 2338 \nQ 4550 1131 3912 565 \nQ 3275 0 1925 0 \nL 628 0 \nL 628 4666 \nz\n\" transform=\"scale(0.015625)\"/>\n       <path id=\"DejaVuSans-43\" d=\"M 4122 4306 \nL 4122 3641 \nQ 3803 3938 3442 4084 \nQ 3081 4231 2675 4231 \nQ 1875 4231 1450 3742 \nQ 1025 3253 1025 2328 \nQ 1025 1406 1450 917 \nQ 1875 428 2675 428 \nQ 3081 428 3442 575 \nQ 3803 722 4122 1019 \nL 4122 359 \nQ 3791 134 3420 21 \nQ 3050 -91 2638 -91 \nQ 1578 -91 968 557 \nQ 359 1206 359 2328 \nQ 359 3453 968 4101 \nQ 1578 4750 2638 4750 \nQ 3056 4750 3426 4639 \nQ 3797 4528 4122 4306 \nz\n\" transform=\"scale(0.015625)\"/>\n      </defs>\n      <use xlink:href=\"#DejaVuSans-4d\"/>\n      <use xlink:href=\"#DejaVuSans-6f\" x=\"86.279297\"/>\n      <use xlink:href=\"#DejaVuSans-64\" x=\"147.460938\"/>\n      <use xlink:href=\"#DejaVuSans-75\" x=\"210.9375\"/>\n      <use xlink:href=\"#DejaVuSans-6c\" x=\"274.316406\"/>\n      <use xlink:href=\"#DejaVuSans-61\" x=\"302.099609\"/>\n      <use xlink:href=\"#DejaVuSans-72\" x=\"363.378906\"/>\n      <use xlink:href=\"#DejaVuSans-2d\" x=\"398.117188\"/>\n      <use xlink:href=\"#DejaVuSans-44\" x=\"434.201172\"/>\n      <use xlink:href=\"#DejaVuSans-43\" x=\"511.203125\"/>\n      <use xlink:href=\"#DejaVuSans-4d\" x=\"581.027344\"/>\n     </g>\n    </g>\n    <g id=\"patch_25\">\n     <path d=\"M 82.901688 57.2425 \nL 114.901688 57.2425 \nL 114.901688 46.0425 \nL 82.901688 46.0425 \nz\n\" style=\"fill: #ff7f0e\"/>\n    </g>\n    <g id=\"text_18\">\n     <!-- Joint training in NCM -->\n     <g transform=\"translate(127.701688 57.2425) scale(0.16 -0.16)\">\n      <defs>\n       <path id=\"DejaVuSans-4a\" d=\"M 628 4666 \nL 1259 4666 \nL 1259 325 \nQ 1259 -519 939 -900 \nQ 619 -1281 -91 -1281 \nL -331 -1281 \nL -331 -750 \nL -134 -750 \nQ 284 -750 456 -515 \nQ 628 -281 628 325 \nL 628 4666 \nz\n\" transform=\"scale(0.015625)\"/>\n      </defs>\n      <use xlink:href=\"#DejaVuSans-4a\"/>\n      <use xlink:href=\"#DejaVuSans-6f\" x=\"29.492188\"/>\n      <use xlink:href=\"#DejaVuSans-69\" x=\"90.673828\"/>\n      <use xlink:href=\"#DejaVuSans-6e\" x=\"118.457031\"/>\n      <use xlink:href=\"#DejaVuSans-74\" x=\"181.835938\"/>\n      <use xlink:href=\"#DejaVuSans-20\" x=\"221.044922\"/>\n      <use xlink:href=\"#DejaVuSans-74\" x=\"252.832031\"/>\n      <use xlink:href=\"#DejaVuSans-72\" x=\"292.041016\"/>\n      <use xlink:href=\"#DejaVuSans-61\" x=\"333.154297\"/>\n      <use xlink:href=\"#DejaVuSans-69\" x=\"394.433594\"/>\n      <use xlink:href=\"#DejaVuSans-6e\" x=\"422.216797\"/>\n      <use xlink:href=\"#DejaVuSans-69\" x=\"485.595703\"/>\n      <use xlink:href=\"#DejaVuSans-6e\" x=\"513.378906\"/>\n      <use xlink:href=\"#DejaVuSans-67\" x=\"576.757812\"/>\n      <use xlink:href=\"#DejaVuSans-20\" x=\"640.234375\"/>\n      <use xlink:href=\"#DejaVuSans-69\" x=\"672.021484\"/>\n      <use xlink:href=\"#DejaVuSans-6e\" x=\"699.804688\"/>\n      <use xlink:href=\"#DejaVuSans-20\" x=\"763.183594\"/>\n      <use xlink:href=\"#DejaVuSans-4e\" x=\"794.970703\"/>\n      <use xlink:href=\"#DejaVuSans-43\" x=\"869.775391\"/>\n      <use xlink:href=\"#DejaVuSans-4d\" x=\"939.599609\"/>\n     </g>\n    </g>\n   </g>\n  </g>\n </g>\n <defs>\n  <clipPath id=\"pd16d131926\">\n   <rect x=\"68.501688\" y=\"7.2\" width=\"446.4\" height=\"273.6\"/>\n  </clipPath>\n </defs>\n</svg>\n"
     },
     "metadata": {},
     "output_type": "display_data"
    }
   ],
   "source": [
    "import pickle\n",
    "import pylab as plb\n",
    "\n",
    "plt.figure(figsize=(8,5), facecolor='white')\n",
    "# plt.figure(figsize=(8,5))\n",
    "plt.subplots_adjust(bottom=0.12)\n",
    "\n",
    "\n",
    "\n",
    "title= \"number_of_nodes\"\n",
    "# number_of_nodes={\n",
    "#     'xaxis':xaxis,\n",
    "#     'mech':y1axis,\n",
    "#     'data':y2axis\n",
    "# }\n",
    "# save_loc = f'./results/{title}.pkl'\n",
    "# with open(save_loc, 'wb') as f:\n",
    "#     pickle.dump(number_of_nodes, f)\n",
    "\n",
    "save_loc = f'./results/{title}.pkl'\n",
    "with open(save_loc, 'rb') as f:\n",
    "    object_file = pickle.load(f)\n",
    "xaxis = object_file['xaxis']\n",
    "y1axis = object_file['y1axis']\n",
    "y2axis = object_file['y2axis']\n",
    "\n",
    "\n",
    "joint= [n for n in range(15, 51, 5)]\n",
    "barWidth = 1.83\n",
    "br1 = xaxis\n",
    "br2 = [x - barWidth for x in xaxis]\n",
    "br3 = [x + barWidth for x in xaxis]\n",
    "plt.bar(br1, y1axis, label='Modular-DCM', width=barWidth)\n",
    "plt.bar(br3, joint, label='Joint training in NCM', width=barWidth)\n",
    "plt.xticks(xaxis)\n",
    "plt.xlabel('Number of nodes (N)', fontsize=18)\n",
    "plt.ylabel('Largest number of models \\n trained together', fontsize=18)\n",
    "# plt.title('', fontsize=18)\n",
    "plt.legend(fontsize=16)\n",
    "plt.savefig('./plots/number_of_nodes.pdf')\n"
   ],
   "metadata": {
    "collapsed": false
   }
  },
  {
   "cell_type": "code",
   "execution_count": 58,
   "outputs": [],
   "source": [
    "arc_ratio={'xaxis': [5, 6, 8, 12, 16],\n",
    " 'mech': [17.2, 15.6, 20.8, 21.4, 22.2],\n",
    " 'data': [46.8, 46.6, 47.0, 48.2, 48.2]}\n",
    "title= \"arc_ratio\"\n",
    "save_loc = f'./results/{title}.pkl'\n",
    "with open(save_loc, 'wb') as f:\n",
    "    pickle.dump(arc_ratio, f)"
   ],
   "metadata": {
    "collapsed": false
   }
  },
  {
   "cell_type": "code",
   "execution_count": 37,
   "outputs": [
    {
     "data": {
      "text/plain": "<matplotlib.legend.Legend at 0x12a319310>"
     },
     "execution_count": 37,
     "metadata": {},
     "output_type": "execute_result"
    },
    {
     "data": {
      "text/plain": "<Figure size 800x500 with 1 Axes>",
      "image/svg+xml": "<?xml version=\"1.0\" encoding=\"utf-8\" standalone=\"no\"?>\n<!DOCTYPE svg PUBLIC \"-//W3C//DTD SVG 1.1//EN\"\n  \"http://www.w3.org/Graphics/SVG/1.1/DTD/svg11.dtd\">\n<svg xmlns:xlink=\"http://www.w3.org/1999/xlink\" width=\"494.203125pt\" height=\"337.074375pt\" viewBox=\"0 0 494.203125 337.074375\" xmlns=\"http://www.w3.org/2000/svg\" version=\"1.1\">\n <metadata>\n  <rdf:RDF xmlns:dc=\"http://purl.org/dc/elements/1.1/\" xmlns:cc=\"http://creativecommons.org/ns#\" xmlns:rdf=\"http://www.w3.org/1999/02/22-rdf-syntax-ns#\">\n   <cc:Work>\n    <dc:type rdf:resource=\"http://purl.org/dc/dcmitype/StillImage\"/>\n    <dc:date>2023-12-22T19:14:10.501362</dc:date>\n    <dc:format>image/svg+xml</dc:format>\n    <dc:creator>\n     <cc:Agent>\n      <dc:title>Matplotlib v3.8.2, https://matplotlib.org/</dc:title>\n     </cc:Agent>\n    </dc:creator>\n   </cc:Work>\n  </rdf:RDF>\n </metadata>\n <defs>\n  <style type=\"text/css\">*{stroke-linejoin: round; stroke-linecap: butt}</style>\n </defs>\n <g id=\"figure_1\">\n  <g id=\"patch_1\">\n   <path d=\"M 0 337.074375 \nL 494.203125 337.074375 \nL 494.203125 0 \nL 0 0 \nz\n\" style=\"fill: #e0e0e0\"/>\n  </g>\n  <g id=\"axes_1\">\n   <g id=\"patch_2\">\n    <path d=\"M 40.603125 299.518125 \nL 487.003125 299.518125 \nL 487.003125 22.318125 \nL 40.603125 22.318125 \nz\n\" style=\"fill: #ffffff\"/>\n   </g>\n   <g id=\"patch_3\">\n    <path d=\"M 87.499807 299.518125 \nL 114.105581 299.518125 \nL 114.105581 35.518125 \nL 87.499807 35.518125 \nz\n\" clip-path=\"url(#p453a5c1236)\" style=\"fill: #1f77b4\"/>\n   </g>\n   <g id=\"patch_4\">\n    <path d=\"M 119.554956 299.518125 \nL 146.160729 299.518125 \nL 146.160729 35.518125 \nL 119.554956 35.518125 \nz\n\" clip-path=\"url(#p453a5c1236)\" style=\"fill: #1f77b4\"/>\n   </g>\n   <g id=\"patch_5\">\n    <path d=\"M 183.665253 299.518125 \nL 210.271027 299.518125 \nL 210.271027 35.518125 \nL 183.665253 35.518125 \nz\n\" clip-path=\"url(#p453a5c1236)\" style=\"fill: #1f77b4\"/>\n   </g>\n   <g id=\"patch_6\">\n    <path d=\"M 311.885848 299.518125 \nL 338.491621 299.518125 \nL 338.491621 35.518125 \nL 311.885848 35.518125 \nz\n\" clip-path=\"url(#p453a5c1236)\" style=\"fill: #1f77b4\"/>\n   </g>\n   <g id=\"patch_7\">\n    <path d=\"M 440.106443 299.518125 \nL 466.712216 299.518125 \nL 466.712216 35.518125 \nL 440.106443 35.518125 \nz\n\" clip-path=\"url(#p453a5c1236)\" style=\"fill: #1f77b4\"/>\n   </g>\n   <g id=\"patch_8\">\n    <path d=\"M 60.894034 299.518125 \nL 87.499807 299.518125 \nL 87.499807 208.702125 \nL 60.894034 208.702125 \nz\n\" clip-path=\"url(#p453a5c1236)\" style=\"fill: #ff7f0e\"/>\n   </g>\n   <g id=\"patch_9\">\n    <path d=\"M 92.949183 299.518125 \nL 119.554956 299.518125 \nL 119.554956 217.150125 \nL 92.949183 217.150125 \nz\n\" clip-path=\"url(#p453a5c1236)\" style=\"fill: #ff7f0e\"/>\n   </g>\n   <g id=\"patch_10\">\n    <path d=\"M 157.05948 299.518125 \nL 183.665253 299.518125 \nL 183.665253 189.694125 \nL 157.05948 189.694125 \nz\n\" clip-path=\"url(#p453a5c1236)\" style=\"fill: #ff7f0e\"/>\n   </g>\n   <g id=\"patch_11\">\n    <path d=\"M 285.280075 299.518125 \nL 311.885848 299.518125 \nL 311.885848 186.526125 \nL 285.280075 186.526125 \nz\n\" clip-path=\"url(#p453a5c1236)\" style=\"fill: #ff7f0e\"/>\n   </g>\n   <g id=\"patch_12\">\n    <path d=\"M 413.500669 299.518125 \nL 440.106443 299.518125 \nL 440.106443 182.302125 \nL 413.500669 182.302125 \nz\n\" clip-path=\"url(#p453a5c1236)\" style=\"fill: #ff7f0e\"/>\n   </g>\n   <g id=\"matplotlib.axis_1\">\n    <g id=\"xtick_1\">\n     <g id=\"line2d_1\">\n      <defs>\n       <path id=\"mcec9e814d4\" d=\"M 0 0 \nL 0 3.5 \n\" style=\"stroke: #000000; stroke-width: 0.8\"/>\n      </defs>\n      <g>\n       <use xlink:href=\"#mcec9e814d4\" x=\"74.196921\" y=\"299.518125\" style=\"stroke: #000000; stroke-width: 0.8\"/>\n      </g>\n     </g>\n     <g id=\"text_1\">\n      <!-- 5 -->\n      <g transform=\"translate(71.015671 314.116563) scale(0.1 -0.1)\">\n       <defs>\n        <path id=\"DejaVuSans-35\" d=\"M 691 4666 \nL 3169 4666 \nL 3169 4134 \nL 1269 4134 \nL 1269 2991 \nQ 1406 3038 1543 3061 \nQ 1681 3084 1819 3084 \nQ 2600 3084 3056 2656 \nQ 3513 2228 3513 1497 \nQ 3513 744 3044 326 \nQ 2575 -91 1722 -91 \nQ 1428 -91 1123 -41 \nQ 819 9 494 109 \nL 494 744 \nQ 775 591 1075 516 \nQ 1375 441 1709 441 \nQ 2250 441 2565 725 \nQ 2881 1009 2881 1497 \nQ 2881 1984 2565 2268 \nQ 2250 2553 1709 2553 \nQ 1456 2553 1204 2497 \nQ 953 2441 691 2322 \nL 691 4666 \nz\n\" transform=\"scale(0.015625)\"/>\n       </defs>\n       <use xlink:href=\"#DejaVuSans-35\"/>\n      </g>\n     </g>\n    </g>\n    <g id=\"xtick_2\">\n     <g id=\"line2d_2\">\n      <g>\n       <use xlink:href=\"#mcec9e814d4\" x=\"106.252069\" y=\"299.518125\" style=\"stroke: #000000; stroke-width: 0.8\"/>\n      </g>\n     </g>\n     <g id=\"text_2\">\n      <!-- 6 -->\n      <g transform=\"translate(103.070819 314.116563) scale(0.1 -0.1)\">\n       <defs>\n        <path id=\"DejaVuSans-36\" d=\"M 2113 2584 \nQ 1688 2584 1439 2293 \nQ 1191 2003 1191 1497 \nQ 1191 994 1439 701 \nQ 1688 409 2113 409 \nQ 2538 409 2786 701 \nQ 3034 994 3034 1497 \nQ 3034 2003 2786 2293 \nQ 2538 2584 2113 2584 \nz\nM 3366 4563 \nL 3366 3988 \nQ 3128 4100 2886 4159 \nQ 2644 4219 2406 4219 \nQ 1781 4219 1451 3797 \nQ 1122 3375 1075 2522 \nQ 1259 2794 1537 2939 \nQ 1816 3084 2150 3084 \nQ 2853 3084 3261 2657 \nQ 3669 2231 3669 1497 \nQ 3669 778 3244 343 \nQ 2819 -91 2113 -91 \nQ 1303 -91 875 529 \nQ 447 1150 447 2328 \nQ 447 3434 972 4092 \nQ 1497 4750 2381 4750 \nQ 2619 4750 2861 4703 \nQ 3103 4656 3366 4563 \nz\n\" transform=\"scale(0.015625)\"/>\n       </defs>\n       <use xlink:href=\"#DejaVuSans-36\"/>\n      </g>\n     </g>\n    </g>\n    <g id=\"xtick_3\">\n     <g id=\"line2d_3\">\n      <g>\n       <use xlink:href=\"#mcec9e814d4\" x=\"170.362367\" y=\"299.518125\" style=\"stroke: #000000; stroke-width: 0.8\"/>\n      </g>\n     </g>\n     <g id=\"text_3\">\n      <!-- 8 -->\n      <g transform=\"translate(167.181117 314.116563) scale(0.1 -0.1)\">\n       <defs>\n        <path id=\"DejaVuSans-38\" d=\"M 2034 2216 \nQ 1584 2216 1326 1975 \nQ 1069 1734 1069 1313 \nQ 1069 891 1326 650 \nQ 1584 409 2034 409 \nQ 2484 409 2743 651 \nQ 3003 894 3003 1313 \nQ 3003 1734 2745 1975 \nQ 2488 2216 2034 2216 \nz\nM 1403 2484 \nQ 997 2584 770 2862 \nQ 544 3141 544 3541 \nQ 544 4100 942 4425 \nQ 1341 4750 2034 4750 \nQ 2731 4750 3128 4425 \nQ 3525 4100 3525 3541 \nQ 3525 3141 3298 2862 \nQ 3072 2584 2669 2484 \nQ 3125 2378 3379 2068 \nQ 3634 1759 3634 1313 \nQ 3634 634 3220 271 \nQ 2806 -91 2034 -91 \nQ 1263 -91 848 271 \nQ 434 634 434 1313 \nQ 434 1759 690 2068 \nQ 947 2378 1403 2484 \nz\nM 1172 3481 \nQ 1172 3119 1398 2916 \nQ 1625 2713 2034 2713 \nQ 2441 2713 2670 2916 \nQ 2900 3119 2900 3481 \nQ 2900 3844 2670 4047 \nQ 2441 4250 2034 4250 \nQ 1625 4250 1398 4047 \nQ 1172 3844 1172 3481 \nz\n\" transform=\"scale(0.015625)\"/>\n       </defs>\n       <use xlink:href=\"#DejaVuSans-38\"/>\n      </g>\n     </g>\n    </g>\n    <g id=\"xtick_4\">\n     <g id=\"line2d_4\">\n      <g>\n       <use xlink:href=\"#mcec9e814d4\" x=\"298.582961\" y=\"299.518125\" style=\"stroke: #000000; stroke-width: 0.8\"/>\n      </g>\n     </g>\n     <g id=\"text_4\">\n      <!-- 12 -->\n      <g transform=\"translate(292.220461 314.116563) scale(0.1 -0.1)\">\n       <defs>\n        <path id=\"DejaVuSans-31\" d=\"M 794 531 \nL 1825 531 \nL 1825 4091 \nL 703 3866 \nL 703 4441 \nL 1819 4666 \nL 2450 4666 \nL 2450 531 \nL 3481 531 \nL 3481 0 \nL 794 0 \nL 794 531 \nz\n\" transform=\"scale(0.015625)\"/>\n        <path id=\"DejaVuSans-32\" d=\"M 1228 531 \nL 3431 531 \nL 3431 0 \nL 469 0 \nL 469 531 \nQ 828 903 1448 1529 \nQ 2069 2156 2228 2338 \nQ 2531 2678 2651 2914 \nQ 2772 3150 2772 3378 \nQ 2772 3750 2511 3984 \nQ 2250 4219 1831 4219 \nQ 1534 4219 1204 4116 \nQ 875 4013 500 3803 \nL 500 4441 \nQ 881 4594 1212 4672 \nQ 1544 4750 1819 4750 \nQ 2544 4750 2975 4387 \nQ 3406 4025 3406 3419 \nQ 3406 3131 3298 2873 \nQ 3191 2616 2906 2266 \nQ 2828 2175 2409 1742 \nQ 1991 1309 1228 531 \nz\n\" transform=\"scale(0.015625)\"/>\n       </defs>\n       <use xlink:href=\"#DejaVuSans-31\"/>\n       <use xlink:href=\"#DejaVuSans-32\" x=\"63.623047\"/>\n      </g>\n     </g>\n    </g>\n    <g id=\"xtick_5\">\n     <g id=\"line2d_5\">\n      <g>\n       <use xlink:href=\"#mcec9e814d4\" x=\"426.803556\" y=\"299.518125\" style=\"stroke: #000000; stroke-width: 0.8\"/>\n      </g>\n     </g>\n     <g id=\"text_5\">\n      <!-- 16 -->\n      <g transform=\"translate(420.441056 314.116563) scale(0.1 -0.1)\">\n       <use xlink:href=\"#DejaVuSans-31\"/>\n       <use xlink:href=\"#DejaVuSans-36\" x=\"63.623047\"/>\n      </g>\n     </g>\n    </g>\n    <g id=\"text_6\">\n     <!-- Number of nodes -->\n     <g transform=\"translate(220.635938 327.794688) scale(0.1 -0.1)\">\n      <defs>\n       <path id=\"DejaVuSans-4e\" d=\"M 628 4666 \nL 1478 4666 \nL 3547 763 \nL 3547 4666 \nL 4159 4666 \nL 4159 0 \nL 3309 0 \nL 1241 3903 \nL 1241 0 \nL 628 0 \nL 628 4666 \nz\n\" transform=\"scale(0.015625)\"/>\n       <path id=\"DejaVuSans-75\" d=\"M 544 1381 \nL 544 3500 \nL 1119 3500 \nL 1119 1403 \nQ 1119 906 1312 657 \nQ 1506 409 1894 409 \nQ 2359 409 2629 706 \nQ 2900 1003 2900 1516 \nL 2900 3500 \nL 3475 3500 \nL 3475 0 \nL 2900 0 \nL 2900 538 \nQ 2691 219 2414 64 \nQ 2138 -91 1772 -91 \nQ 1169 -91 856 284 \nQ 544 659 544 1381 \nz\nM 1991 3584 \nL 1991 3584 \nz\n\" transform=\"scale(0.015625)\"/>\n       <path id=\"DejaVuSans-6d\" d=\"M 3328 2828 \nQ 3544 3216 3844 3400 \nQ 4144 3584 4550 3584 \nQ 5097 3584 5394 3201 \nQ 5691 2819 5691 2113 \nL 5691 0 \nL 5113 0 \nL 5113 2094 \nQ 5113 2597 4934 2840 \nQ 4756 3084 4391 3084 \nQ 3944 3084 3684 2787 \nQ 3425 2491 3425 1978 \nL 3425 0 \nL 2847 0 \nL 2847 2094 \nQ 2847 2600 2669 2842 \nQ 2491 3084 2119 3084 \nQ 1678 3084 1418 2786 \nQ 1159 2488 1159 1978 \nL 1159 0 \nL 581 0 \nL 581 3500 \nL 1159 3500 \nL 1159 2956 \nQ 1356 3278 1631 3431 \nQ 1906 3584 2284 3584 \nQ 2666 3584 2933 3390 \nQ 3200 3197 3328 2828 \nz\n\" transform=\"scale(0.015625)\"/>\n       <path id=\"DejaVuSans-62\" d=\"M 3116 1747 \nQ 3116 2381 2855 2742 \nQ 2594 3103 2138 3103 \nQ 1681 3103 1420 2742 \nQ 1159 2381 1159 1747 \nQ 1159 1113 1420 752 \nQ 1681 391 2138 391 \nQ 2594 391 2855 752 \nQ 3116 1113 3116 1747 \nz\nM 1159 2969 \nQ 1341 3281 1617 3432 \nQ 1894 3584 2278 3584 \nQ 2916 3584 3314 3078 \nQ 3713 2572 3713 1747 \nQ 3713 922 3314 415 \nQ 2916 -91 2278 -91 \nQ 1894 -91 1617 61 \nQ 1341 213 1159 525 \nL 1159 0 \nL 581 0 \nL 581 4863 \nL 1159 4863 \nL 1159 2969 \nz\n\" transform=\"scale(0.015625)\"/>\n       <path id=\"DejaVuSans-65\" d=\"M 3597 1894 \nL 3597 1613 \nL 953 1613 \nQ 991 1019 1311 708 \nQ 1631 397 2203 397 \nQ 2534 397 2845 478 \nQ 3156 559 3463 722 \nL 3463 178 \nQ 3153 47 2828 -22 \nQ 2503 -91 2169 -91 \nQ 1331 -91 842 396 \nQ 353 884 353 1716 \nQ 353 2575 817 3079 \nQ 1281 3584 2069 3584 \nQ 2775 3584 3186 3129 \nQ 3597 2675 3597 1894 \nz\nM 3022 2063 \nQ 3016 2534 2758 2815 \nQ 2500 3097 2075 3097 \nQ 1594 3097 1305 2825 \nQ 1016 2553 972 2059 \nL 3022 2063 \nz\n\" transform=\"scale(0.015625)\"/>\n       <path id=\"DejaVuSans-72\" d=\"M 2631 2963 \nQ 2534 3019 2420 3045 \nQ 2306 3072 2169 3072 \nQ 1681 3072 1420 2755 \nQ 1159 2438 1159 1844 \nL 1159 0 \nL 581 0 \nL 581 3500 \nL 1159 3500 \nL 1159 2956 \nQ 1341 3275 1631 3429 \nQ 1922 3584 2338 3584 \nQ 2397 3584 2469 3576 \nQ 2541 3569 2628 3553 \nL 2631 2963 \nz\n\" transform=\"scale(0.015625)\"/>\n       <path id=\"DejaVuSans-20\" transform=\"scale(0.015625)\"/>\n       <path id=\"DejaVuSans-6f\" d=\"M 1959 3097 \nQ 1497 3097 1228 2736 \nQ 959 2375 959 1747 \nQ 959 1119 1226 758 \nQ 1494 397 1959 397 \nQ 2419 397 2687 759 \nQ 2956 1122 2956 1747 \nQ 2956 2369 2687 2733 \nQ 2419 3097 1959 3097 \nz\nM 1959 3584 \nQ 2709 3584 3137 3096 \nQ 3566 2609 3566 1747 \nQ 3566 888 3137 398 \nQ 2709 -91 1959 -91 \nQ 1206 -91 779 398 \nQ 353 888 353 1747 \nQ 353 2609 779 3096 \nQ 1206 3584 1959 3584 \nz\n\" transform=\"scale(0.015625)\"/>\n       <path id=\"DejaVuSans-66\" d=\"M 2375 4863 \nL 2375 4384 \nL 1825 4384 \nQ 1516 4384 1395 4259 \nQ 1275 4134 1275 3809 \nL 1275 3500 \nL 2222 3500 \nL 2222 3053 \nL 1275 3053 \nL 1275 0 \nL 697 0 \nL 697 3053 \nL 147 3053 \nL 147 3500 \nL 697 3500 \nL 697 3744 \nQ 697 4328 969 4595 \nQ 1241 4863 1831 4863 \nL 2375 4863 \nz\n\" transform=\"scale(0.015625)\"/>\n       <path id=\"DejaVuSans-6e\" d=\"M 3513 2113 \nL 3513 0 \nL 2938 0 \nL 2938 2094 \nQ 2938 2591 2744 2837 \nQ 2550 3084 2163 3084 \nQ 1697 3084 1428 2787 \nQ 1159 2491 1159 1978 \nL 1159 0 \nL 581 0 \nL 581 3500 \nL 1159 3500 \nL 1159 2956 \nQ 1366 3272 1645 3428 \nQ 1925 3584 2291 3584 \nQ 2894 3584 3203 3211 \nQ 3513 2838 3513 2113 \nz\n\" transform=\"scale(0.015625)\"/>\n       <path id=\"DejaVuSans-64\" d=\"M 2906 2969 \nL 2906 4863 \nL 3481 4863 \nL 3481 0 \nL 2906 0 \nL 2906 525 \nQ 2725 213 2448 61 \nQ 2172 -91 1784 -91 \nQ 1150 -91 751 415 \nQ 353 922 353 1747 \nQ 353 2572 751 3078 \nQ 1150 3584 1784 3584 \nQ 2172 3584 2448 3432 \nQ 2725 3281 2906 2969 \nz\nM 947 1747 \nQ 947 1113 1208 752 \nQ 1469 391 1925 391 \nQ 2381 391 2643 752 \nQ 2906 1113 2906 1747 \nQ 2906 2381 2643 2742 \nQ 2381 3103 1925 3103 \nQ 1469 3103 1208 2742 \nQ 947 2381 947 1747 \nz\n\" transform=\"scale(0.015625)\"/>\n       <path id=\"DejaVuSans-73\" d=\"M 2834 3397 \nL 2834 2853 \nQ 2591 2978 2328 3040 \nQ 2066 3103 1784 3103 \nQ 1356 3103 1142 2972 \nQ 928 2841 928 2578 \nQ 928 2378 1081 2264 \nQ 1234 2150 1697 2047 \nL 1894 2003 \nQ 2506 1872 2764 1633 \nQ 3022 1394 3022 966 \nQ 3022 478 2636 193 \nQ 2250 -91 1575 -91 \nQ 1294 -91 989 -36 \nQ 684 19 347 128 \nL 347 722 \nQ 666 556 975 473 \nQ 1284 391 1588 391 \nQ 1994 391 2212 530 \nQ 2431 669 2431 922 \nQ 2431 1156 2273 1281 \nQ 2116 1406 1581 1522 \nL 1381 1569 \nQ 847 1681 609 1914 \nQ 372 2147 372 2553 \nQ 372 3047 722 3315 \nQ 1072 3584 1716 3584 \nQ 2034 3584 2315 3537 \nQ 2597 3491 2834 3397 \nz\n\" transform=\"scale(0.015625)\"/>\n      </defs>\n      <use xlink:href=\"#DejaVuSans-4e\"/>\n      <use xlink:href=\"#DejaVuSans-75\" x=\"74.804688\"/>\n      <use xlink:href=\"#DejaVuSans-6d\" x=\"138.183594\"/>\n      <use xlink:href=\"#DejaVuSans-62\" x=\"235.595703\"/>\n      <use xlink:href=\"#DejaVuSans-65\" x=\"299.072266\"/>\n      <use xlink:href=\"#DejaVuSans-72\" x=\"360.595703\"/>\n      <use xlink:href=\"#DejaVuSans-20\" x=\"401.708984\"/>\n      <use xlink:href=\"#DejaVuSans-6f\" x=\"433.496094\"/>\n      <use xlink:href=\"#DejaVuSans-66\" x=\"494.677734\"/>\n      <use xlink:href=\"#DejaVuSans-20\" x=\"529.882812\"/>\n      <use xlink:href=\"#DejaVuSans-6e\" x=\"561.669922\"/>\n      <use xlink:href=\"#DejaVuSans-6f\" x=\"625.048828\"/>\n      <use xlink:href=\"#DejaVuSans-64\" x=\"686.230469\"/>\n      <use xlink:href=\"#DejaVuSans-65\" x=\"749.707031\"/>\n      <use xlink:href=\"#DejaVuSans-73\" x=\"811.230469\"/>\n     </g>\n    </g>\n   </g>\n   <g id=\"matplotlib.axis_2\">\n    <g id=\"ytick_1\">\n     <g id=\"line2d_6\">\n      <defs>\n       <path id=\"mf010672899\" d=\"M 0 0 \nL -3.5 0 \n\" style=\"stroke: #000000; stroke-width: 0.8\"/>\n      </defs>\n      <g>\n       <use xlink:href=\"#mf010672899\" x=\"40.603125\" y=\"299.518125\" style=\"stroke: #000000; stroke-width: 0.8\"/>\n      </g>\n     </g>\n     <g id=\"text_7\">\n      <!-- 0 -->\n      <g transform=\"translate(27.240625 303.317344) scale(0.1 -0.1)\">\n       <defs>\n        <path id=\"DejaVuSans-30\" d=\"M 2034 4250 \nQ 1547 4250 1301 3770 \nQ 1056 3291 1056 2328 \nQ 1056 1369 1301 889 \nQ 1547 409 2034 409 \nQ 2525 409 2770 889 \nQ 3016 1369 3016 2328 \nQ 3016 3291 2770 3770 \nQ 2525 4250 2034 4250 \nz\nM 2034 4750 \nQ 2819 4750 3233 4129 \nQ 3647 3509 3647 2328 \nQ 3647 1150 3233 529 \nQ 2819 -91 2034 -91 \nQ 1250 -91 836 529 \nQ 422 1150 422 2328 \nQ 422 3509 836 4129 \nQ 1250 4750 2034 4750 \nz\n\" transform=\"scale(0.015625)\"/>\n       </defs>\n       <use xlink:href=\"#DejaVuSans-30\"/>\n      </g>\n     </g>\n    </g>\n    <g id=\"ytick_2\">\n     <g id=\"line2d_7\">\n      <g>\n       <use xlink:href=\"#mf010672899\" x=\"40.603125\" y=\"246.718125\" style=\"stroke: #000000; stroke-width: 0.8\"/>\n      </g>\n     </g>\n     <g id=\"text_8\">\n      <!-- 10 -->\n      <g transform=\"translate(20.878125 250.517344) scale(0.1 -0.1)\">\n       <use xlink:href=\"#DejaVuSans-31\"/>\n       <use xlink:href=\"#DejaVuSans-30\" x=\"63.623047\"/>\n      </g>\n     </g>\n    </g>\n    <g id=\"ytick_3\">\n     <g id=\"line2d_8\">\n      <g>\n       <use xlink:href=\"#mf010672899\" x=\"40.603125\" y=\"193.918125\" style=\"stroke: #000000; stroke-width: 0.8\"/>\n      </g>\n     </g>\n     <g id=\"text_9\">\n      <!-- 20 -->\n      <g transform=\"translate(20.878125 197.717344) scale(0.1 -0.1)\">\n       <use xlink:href=\"#DejaVuSans-32\"/>\n       <use xlink:href=\"#DejaVuSans-30\" x=\"63.623047\"/>\n      </g>\n     </g>\n    </g>\n    <g id=\"ytick_4\">\n     <g id=\"line2d_9\">\n      <g>\n       <use xlink:href=\"#mf010672899\" x=\"40.603125\" y=\"141.118125\" style=\"stroke: #000000; stroke-width: 0.8\"/>\n      </g>\n     </g>\n     <g id=\"text_10\">\n      <!-- 30 -->\n      <g transform=\"translate(20.878125 144.917344) scale(0.1 -0.1)\">\n       <defs>\n        <path id=\"DejaVuSans-33\" d=\"M 2597 2516 \nQ 3050 2419 3304 2112 \nQ 3559 1806 3559 1356 \nQ 3559 666 3084 287 \nQ 2609 -91 1734 -91 \nQ 1441 -91 1130 -33 \nQ 819 25 488 141 \nL 488 750 \nQ 750 597 1062 519 \nQ 1375 441 1716 441 \nQ 2309 441 2620 675 \nQ 2931 909 2931 1356 \nQ 2931 1769 2642 2001 \nQ 2353 2234 1838 2234 \nL 1294 2234 \nL 1294 2753 \nL 1863 2753 \nQ 2328 2753 2575 2939 \nQ 2822 3125 2822 3475 \nQ 2822 3834 2567 4026 \nQ 2313 4219 1838 4219 \nQ 1578 4219 1281 4162 \nQ 984 4106 628 3988 \nL 628 4550 \nQ 988 4650 1302 4700 \nQ 1616 4750 1894 4750 \nQ 2613 4750 3031 4423 \nQ 3450 4097 3450 3541 \nQ 3450 3153 3228 2886 \nQ 3006 2619 2597 2516 \nz\n\" transform=\"scale(0.015625)\"/>\n       </defs>\n       <use xlink:href=\"#DejaVuSans-33\"/>\n       <use xlink:href=\"#DejaVuSans-30\" x=\"63.623047\"/>\n      </g>\n     </g>\n    </g>\n    <g id=\"ytick_5\">\n     <g id=\"line2d_10\">\n      <g>\n       <use xlink:href=\"#mf010672899\" x=\"40.603125\" y=\"88.318125\" style=\"stroke: #000000; stroke-width: 0.8\"/>\n      </g>\n     </g>\n     <g id=\"text_11\">\n      <!-- 40 -->\n      <g transform=\"translate(20.878125 92.117344) scale(0.1 -0.1)\">\n       <defs>\n        <path id=\"DejaVuSans-34\" d=\"M 2419 4116 \nL 825 1625 \nL 2419 1625 \nL 2419 4116 \nz\nM 2253 4666 \nL 3047 4666 \nL 3047 1625 \nL 3713 1625 \nL 3713 1100 \nL 3047 1100 \nL 3047 0 \nL 2419 0 \nL 2419 1100 \nL 313 1100 \nL 313 1709 \nL 2253 4666 \nz\n\" transform=\"scale(0.015625)\"/>\n       </defs>\n       <use xlink:href=\"#DejaVuSans-34\"/>\n       <use xlink:href=\"#DejaVuSans-30\" x=\"63.623047\"/>\n      </g>\n     </g>\n    </g>\n    <g id=\"ytick_6\">\n     <g id=\"line2d_11\">\n      <g>\n       <use xlink:href=\"#mf010672899\" x=\"40.603125\" y=\"35.518125\" style=\"stroke: #000000; stroke-width: 0.8\"/>\n      </g>\n     </g>\n     <g id=\"text_12\">\n      <!-- 50 -->\n      <g transform=\"translate(20.878125 39.317344) scale(0.1 -0.1)\">\n       <use xlink:href=\"#DejaVuSans-35\"/>\n       <use xlink:href=\"#DejaVuSans-30\" x=\"63.623047\"/>\n      </g>\n     </g>\n    </g>\n    <g id=\"text_13\">\n     <!-- Largest number of networks need training together -->\n     <g transform=\"translate(14.798437 289.725938) rotate(-90) scale(0.1 -0.1)\">\n      <defs>\n       <path id=\"DejaVuSans-4c\" d=\"M 628 4666 \nL 1259 4666 \nL 1259 531 \nL 3531 531 \nL 3531 0 \nL 628 0 \nL 628 4666 \nz\n\" transform=\"scale(0.015625)\"/>\n       <path id=\"DejaVuSans-61\" d=\"M 2194 1759 \nQ 1497 1759 1228 1600 \nQ 959 1441 959 1056 \nQ 959 750 1161 570 \nQ 1363 391 1709 391 \nQ 2188 391 2477 730 \nQ 2766 1069 2766 1631 \nL 2766 1759 \nL 2194 1759 \nz\nM 3341 1997 \nL 3341 0 \nL 2766 0 \nL 2766 531 \nQ 2569 213 2275 61 \nQ 1981 -91 1556 -91 \nQ 1019 -91 701 211 \nQ 384 513 384 1019 \nQ 384 1609 779 1909 \nQ 1175 2209 1959 2209 \nL 2766 2209 \nL 2766 2266 \nQ 2766 2663 2505 2880 \nQ 2244 3097 1772 3097 \nQ 1472 3097 1187 3025 \nQ 903 2953 641 2809 \nL 641 3341 \nQ 956 3463 1253 3523 \nQ 1550 3584 1831 3584 \nQ 2591 3584 2966 3190 \nQ 3341 2797 3341 1997 \nz\n\" transform=\"scale(0.015625)\"/>\n       <path id=\"DejaVuSans-67\" d=\"M 2906 1791 \nQ 2906 2416 2648 2759 \nQ 2391 3103 1925 3103 \nQ 1463 3103 1205 2759 \nQ 947 2416 947 1791 \nQ 947 1169 1205 825 \nQ 1463 481 1925 481 \nQ 2391 481 2648 825 \nQ 2906 1169 2906 1791 \nz\nM 3481 434 \nQ 3481 -459 3084 -895 \nQ 2688 -1331 1869 -1331 \nQ 1566 -1331 1297 -1286 \nQ 1028 -1241 775 -1147 \nL 775 -588 \nQ 1028 -725 1275 -790 \nQ 1522 -856 1778 -856 \nQ 2344 -856 2625 -561 \nQ 2906 -266 2906 331 \nL 2906 616 \nQ 2728 306 2450 153 \nQ 2172 0 1784 0 \nQ 1141 0 747 490 \nQ 353 981 353 1791 \nQ 353 2603 747 3093 \nQ 1141 3584 1784 3584 \nQ 2172 3584 2450 3431 \nQ 2728 3278 2906 2969 \nL 2906 3500 \nL 3481 3500 \nL 3481 434 \nz\n\" transform=\"scale(0.015625)\"/>\n       <path id=\"DejaVuSans-74\" d=\"M 1172 4494 \nL 1172 3500 \nL 2356 3500 \nL 2356 3053 \nL 1172 3053 \nL 1172 1153 \nQ 1172 725 1289 603 \nQ 1406 481 1766 481 \nL 2356 481 \nL 2356 0 \nL 1766 0 \nQ 1100 0 847 248 \nQ 594 497 594 1153 \nL 594 3053 \nL 172 3053 \nL 172 3500 \nL 594 3500 \nL 594 4494 \nL 1172 4494 \nz\n\" transform=\"scale(0.015625)\"/>\n       <path id=\"DejaVuSans-77\" d=\"M 269 3500 \nL 844 3500 \nL 1563 769 \nL 2278 3500 \nL 2956 3500 \nL 3675 769 \nL 4391 3500 \nL 4966 3500 \nL 4050 0 \nL 3372 0 \nL 2619 2869 \nL 1863 0 \nL 1184 0 \nL 269 3500 \nz\n\" transform=\"scale(0.015625)\"/>\n       <path id=\"DejaVuSans-6b\" d=\"M 581 4863 \nL 1159 4863 \nL 1159 1991 \nL 2875 3500 \nL 3609 3500 \nL 1753 1863 \nL 3688 0 \nL 2938 0 \nL 1159 1709 \nL 1159 0 \nL 581 0 \nL 581 4863 \nz\n\" transform=\"scale(0.015625)\"/>\n       <path id=\"DejaVuSans-69\" d=\"M 603 3500 \nL 1178 3500 \nL 1178 0 \nL 603 0 \nL 603 3500 \nz\nM 603 4863 \nL 1178 4863 \nL 1178 4134 \nL 603 4134 \nL 603 4863 \nz\n\" transform=\"scale(0.015625)\"/>\n       <path id=\"DejaVuSans-68\" d=\"M 3513 2113 \nL 3513 0 \nL 2938 0 \nL 2938 2094 \nQ 2938 2591 2744 2837 \nQ 2550 3084 2163 3084 \nQ 1697 3084 1428 2787 \nQ 1159 2491 1159 1978 \nL 1159 0 \nL 581 0 \nL 581 4863 \nL 1159 4863 \nL 1159 2956 \nQ 1366 3272 1645 3428 \nQ 1925 3584 2291 3584 \nQ 2894 3584 3203 3211 \nQ 3513 2838 3513 2113 \nz\n\" transform=\"scale(0.015625)\"/>\n      </defs>\n      <use xlink:href=\"#DejaVuSans-4c\"/>\n      <use xlink:href=\"#DejaVuSans-61\" x=\"55.712891\"/>\n      <use xlink:href=\"#DejaVuSans-72\" x=\"116.992188\"/>\n      <use xlink:href=\"#DejaVuSans-67\" x=\"156.355469\"/>\n      <use xlink:href=\"#DejaVuSans-65\" x=\"219.832031\"/>\n      <use xlink:href=\"#DejaVuSans-73\" x=\"281.355469\"/>\n      <use xlink:href=\"#DejaVuSans-74\" x=\"333.455078\"/>\n      <use xlink:href=\"#DejaVuSans-20\" x=\"372.664062\"/>\n      <use xlink:href=\"#DejaVuSans-6e\" x=\"404.451172\"/>\n      <use xlink:href=\"#DejaVuSans-75\" x=\"467.830078\"/>\n      <use xlink:href=\"#DejaVuSans-6d\" x=\"531.208984\"/>\n      <use xlink:href=\"#DejaVuSans-62\" x=\"628.621094\"/>\n      <use xlink:href=\"#DejaVuSans-65\" x=\"692.097656\"/>\n      <use xlink:href=\"#DejaVuSans-72\" x=\"753.621094\"/>\n      <use xlink:href=\"#DejaVuSans-20\" x=\"794.734375\"/>\n      <use xlink:href=\"#DejaVuSans-6f\" x=\"826.521484\"/>\n      <use xlink:href=\"#DejaVuSans-66\" x=\"887.703125\"/>\n      <use xlink:href=\"#DejaVuSans-20\" x=\"922.908203\"/>\n      <use xlink:href=\"#DejaVuSans-6e\" x=\"954.695312\"/>\n      <use xlink:href=\"#DejaVuSans-65\" x=\"1018.074219\"/>\n      <use xlink:href=\"#DejaVuSans-74\" x=\"1079.597656\"/>\n      <use xlink:href=\"#DejaVuSans-77\" x=\"1118.806641\"/>\n      <use xlink:href=\"#DejaVuSans-6f\" x=\"1200.59375\"/>\n      <use xlink:href=\"#DejaVuSans-72\" x=\"1261.775391\"/>\n      <use xlink:href=\"#DejaVuSans-6b\" x=\"1302.888672\"/>\n      <use xlink:href=\"#DejaVuSans-73\" x=\"1360.798828\"/>\n      <use xlink:href=\"#DejaVuSans-20\" x=\"1412.898438\"/>\n      <use xlink:href=\"#DejaVuSans-6e\" x=\"1444.685547\"/>\n      <use xlink:href=\"#DejaVuSans-65\" x=\"1508.064453\"/>\n      <use xlink:href=\"#DejaVuSans-65\" x=\"1569.587891\"/>\n      <use xlink:href=\"#DejaVuSans-64\" x=\"1631.111328\"/>\n      <use xlink:href=\"#DejaVuSans-20\" x=\"1694.587891\"/>\n      <use xlink:href=\"#DejaVuSans-74\" x=\"1726.375\"/>\n      <use xlink:href=\"#DejaVuSans-72\" x=\"1765.583984\"/>\n      <use xlink:href=\"#DejaVuSans-61\" x=\"1806.697266\"/>\n      <use xlink:href=\"#DejaVuSans-69\" x=\"1867.976562\"/>\n      <use xlink:href=\"#DejaVuSans-6e\" x=\"1895.759766\"/>\n      <use xlink:href=\"#DejaVuSans-69\" x=\"1959.138672\"/>\n      <use xlink:href=\"#DejaVuSans-6e\" x=\"1986.921875\"/>\n      <use xlink:href=\"#DejaVuSans-67\" x=\"2050.300781\"/>\n      <use xlink:href=\"#DejaVuSans-20\" x=\"2113.777344\"/>\n      <use xlink:href=\"#DejaVuSans-74\" x=\"2145.564453\"/>\n      <use xlink:href=\"#DejaVuSans-6f\" x=\"2184.773438\"/>\n      <use xlink:href=\"#DejaVuSans-67\" x=\"2245.955078\"/>\n      <use xlink:href=\"#DejaVuSans-65\" x=\"2309.431641\"/>\n      <use xlink:href=\"#DejaVuSans-74\" x=\"2370.955078\"/>\n      <use xlink:href=\"#DejaVuSans-68\" x=\"2410.164062\"/>\n      <use xlink:href=\"#DejaVuSans-65\" x=\"2473.542969\"/>\n      <use xlink:href=\"#DejaVuSans-72\" x=\"2535.066406\"/>\n     </g>\n    </g>\n   </g>\n   <g id=\"patch_13\">\n    <path d=\"M 40.603125 299.518125 \nL 40.603125 22.318125 \n\" style=\"fill: none; stroke: #000000; stroke-width: 0.8; stroke-linejoin: miter; stroke-linecap: square\"/>\n   </g>\n   <g id=\"patch_14\">\n    <path d=\"M 487.003125 299.518125 \nL 487.003125 22.318125 \n\" style=\"fill: none; stroke: #000000; stroke-width: 0.8; stroke-linejoin: miter; stroke-linecap: square\"/>\n   </g>\n   <g id=\"patch_15\">\n    <path d=\"M 40.603125 299.518125 \nL 487.003125 299.518125 \n\" style=\"fill: none; stroke: #000000; stroke-width: 0.8; stroke-linejoin: miter; stroke-linecap: square\"/>\n   </g>\n   <g id=\"patch_16\">\n    <path d=\"M 40.603125 22.318125 \nL 487.003125 22.318125 \n\" style=\"fill: none; stroke: #000000; stroke-width: 0.8; stroke-linejoin: miter; stroke-linecap: square\"/>\n   </g>\n   <g id=\"text_14\">\n    <!-- Performance with arc ratio and #of latents as n/3 -->\n    <g transform=\"translate(115.448438 16.318125) scale(0.12 -0.12)\">\n     <defs>\n      <path id=\"DejaVuSans-50\" d=\"M 1259 4147 \nL 1259 2394 \nL 2053 2394 \nQ 2494 2394 2734 2622 \nQ 2975 2850 2975 3272 \nQ 2975 3691 2734 3919 \nQ 2494 4147 2053 4147 \nL 1259 4147 \nz\nM 628 4666 \nL 2053 4666 \nQ 2838 4666 3239 4311 \nQ 3641 3956 3641 3272 \nQ 3641 2581 3239 2228 \nQ 2838 1875 2053 1875 \nL 1259 1875 \nL 1259 0 \nL 628 0 \nL 628 4666 \nz\n\" transform=\"scale(0.015625)\"/>\n      <path id=\"DejaVuSans-63\" d=\"M 3122 3366 \nL 3122 2828 \nQ 2878 2963 2633 3030 \nQ 2388 3097 2138 3097 \nQ 1578 3097 1268 2742 \nQ 959 2388 959 1747 \nQ 959 1106 1268 751 \nQ 1578 397 2138 397 \nQ 2388 397 2633 464 \nQ 2878 531 3122 666 \nL 3122 134 \nQ 2881 22 2623 -34 \nQ 2366 -91 2075 -91 \nQ 1284 -91 818 406 \nQ 353 903 353 1747 \nQ 353 2603 823 3093 \nQ 1294 3584 2113 3584 \nQ 2378 3584 2631 3529 \nQ 2884 3475 3122 3366 \nz\n\" transform=\"scale(0.015625)\"/>\n      <path id=\"DejaVuSans-23\" d=\"M 3272 2816 \nL 2363 2816 \nL 2100 1772 \nL 3016 1772 \nL 3272 2816 \nz\nM 2803 4594 \nL 2478 3297 \nL 3391 3297 \nL 3719 4594 \nL 4219 4594 \nL 3897 3297 \nL 4872 3297 \nL 4872 2816 \nL 3775 2816 \nL 3519 1772 \nL 4513 1772 \nL 4513 1294 \nL 3397 1294 \nL 3072 0 \nL 2572 0 \nL 2894 1294 \nL 1978 1294 \nL 1656 0 \nL 1153 0 \nL 1478 1294 \nL 494 1294 \nL 494 1772 \nL 1594 1772 \nL 1856 2816 \nL 850 2816 \nL 850 3297 \nL 1978 3297 \nL 2297 4594 \nL 2803 4594 \nz\n\" transform=\"scale(0.015625)\"/>\n      <path id=\"DejaVuSans-6c\" d=\"M 603 4863 \nL 1178 4863 \nL 1178 0 \nL 603 0 \nL 603 4863 \nz\n\" transform=\"scale(0.015625)\"/>\n      <path id=\"DejaVuSans-2f\" d=\"M 1625 4666 \nL 2156 4666 \nL 531 -594 \nL 0 -594 \nL 1625 4666 \nz\n\" transform=\"scale(0.015625)\"/>\n     </defs>\n     <use xlink:href=\"#DejaVuSans-50\"/>\n     <use xlink:href=\"#DejaVuSans-65\" x=\"56.677734\"/>\n     <use xlink:href=\"#DejaVuSans-72\" x=\"118.201172\"/>\n     <use xlink:href=\"#DejaVuSans-66\" x=\"159.314453\"/>\n     <use xlink:href=\"#DejaVuSans-6f\" x=\"194.519531\"/>\n     <use xlink:href=\"#DejaVuSans-72\" x=\"255.701172\"/>\n     <use xlink:href=\"#DejaVuSans-6d\" x=\"295.064453\"/>\n     <use xlink:href=\"#DejaVuSans-61\" x=\"392.476562\"/>\n     <use xlink:href=\"#DejaVuSans-6e\" x=\"453.755859\"/>\n     <use xlink:href=\"#DejaVuSans-63\" x=\"517.134766\"/>\n     <use xlink:href=\"#DejaVuSans-65\" x=\"572.115234\"/>\n     <use xlink:href=\"#DejaVuSans-20\" x=\"633.638672\"/>\n     <use xlink:href=\"#DejaVuSans-77\" x=\"665.425781\"/>\n     <use xlink:href=\"#DejaVuSans-69\" x=\"747.212891\"/>\n     <use xlink:href=\"#DejaVuSans-74\" x=\"774.996094\"/>\n     <use xlink:href=\"#DejaVuSans-68\" x=\"814.205078\"/>\n     <use xlink:href=\"#DejaVuSans-20\" x=\"877.583984\"/>\n     <use xlink:href=\"#DejaVuSans-61\" x=\"909.371094\"/>\n     <use xlink:href=\"#DejaVuSans-72\" x=\"970.650391\"/>\n     <use xlink:href=\"#DejaVuSans-63\" x=\"1009.513672\"/>\n     <use xlink:href=\"#DejaVuSans-20\" x=\"1064.494141\"/>\n     <use xlink:href=\"#DejaVuSans-72\" x=\"1096.28125\"/>\n     <use xlink:href=\"#DejaVuSans-61\" x=\"1137.394531\"/>\n     <use xlink:href=\"#DejaVuSans-74\" x=\"1198.673828\"/>\n     <use xlink:href=\"#DejaVuSans-69\" x=\"1237.882812\"/>\n     <use xlink:href=\"#DejaVuSans-6f\" x=\"1265.666016\"/>\n     <use xlink:href=\"#DejaVuSans-20\" x=\"1326.847656\"/>\n     <use xlink:href=\"#DejaVuSans-61\" x=\"1358.634766\"/>\n     <use xlink:href=\"#DejaVuSans-6e\" x=\"1419.914062\"/>\n     <use xlink:href=\"#DejaVuSans-64\" x=\"1483.292969\"/>\n     <use xlink:href=\"#DejaVuSans-20\" x=\"1546.769531\"/>\n     <use xlink:href=\"#DejaVuSans-23\" x=\"1578.556641\"/>\n     <use xlink:href=\"#DejaVuSans-6f\" x=\"1662.345703\"/>\n     <use xlink:href=\"#DejaVuSans-66\" x=\"1723.527344\"/>\n     <use xlink:href=\"#DejaVuSans-20\" x=\"1758.732422\"/>\n     <use xlink:href=\"#DejaVuSans-6c\" x=\"1790.519531\"/>\n     <use xlink:href=\"#DejaVuSans-61\" x=\"1818.302734\"/>\n     <use xlink:href=\"#DejaVuSans-74\" x=\"1879.582031\"/>\n     <use xlink:href=\"#DejaVuSans-65\" x=\"1918.791016\"/>\n     <use xlink:href=\"#DejaVuSans-6e\" x=\"1980.314453\"/>\n     <use xlink:href=\"#DejaVuSans-74\" x=\"2043.693359\"/>\n     <use xlink:href=\"#DejaVuSans-73\" x=\"2082.902344\"/>\n     <use xlink:href=\"#DejaVuSans-20\" x=\"2135.001953\"/>\n     <use xlink:href=\"#DejaVuSans-61\" x=\"2166.789062\"/>\n     <use xlink:href=\"#DejaVuSans-73\" x=\"2228.068359\"/>\n     <use xlink:href=\"#DejaVuSans-20\" x=\"2280.167969\"/>\n     <use xlink:href=\"#DejaVuSans-6e\" x=\"2311.955078\"/>\n     <use xlink:href=\"#DejaVuSans-2f\" x=\"2375.333984\"/>\n     <use xlink:href=\"#DejaVuSans-33\" x=\"2409.025391\"/>\n    </g>\n   </g>\n   <g id=\"legend_1\">\n    <g id=\"patch_17\">\n     <path d=\"M 381.271875 59.674375 \nL 480.003125 59.674375 \nQ 482.003125 59.674375 482.003125 57.674375 \nL 482.003125 29.318125 \nQ 482.003125 27.318125 480.003125 27.318125 \nL 381.271875 27.318125 \nQ 379.271875 27.318125 379.271875 29.318125 \nL 379.271875 57.674375 \nQ 379.271875 59.674375 381.271875 59.674375 \nz\n\" style=\"fill: #ffffff; opacity: 0.8; stroke: #cccccc; stroke-linejoin: miter\"/>\n    </g>\n    <g id=\"patch_18\">\n     <path d=\"M 383.271875 38.916562 \nL 403.271875 38.916562 \nL 403.271875 31.916562 \nL 383.271875 31.916562 \nz\n\" style=\"fill: #1f77b4\"/>\n    </g>\n    <g id=\"text_15\">\n     <!-- Joint training -->\n     <g transform=\"translate(411.271875 38.916562) scale(0.1 -0.1)\">\n      <defs>\n       <path id=\"DejaVuSans-4a\" d=\"M 628 4666 \nL 1259 4666 \nL 1259 325 \nQ 1259 -519 939 -900 \nQ 619 -1281 -91 -1281 \nL -331 -1281 \nL -331 -750 \nL -134 -750 \nQ 284 -750 456 -515 \nQ 628 -281 628 325 \nL 628 4666 \nz\n\" transform=\"scale(0.015625)\"/>\n      </defs>\n      <use xlink:href=\"#DejaVuSans-4a\"/>\n      <use xlink:href=\"#DejaVuSans-6f\" x=\"29.492188\"/>\n      <use xlink:href=\"#DejaVuSans-69\" x=\"90.673828\"/>\n      <use xlink:href=\"#DejaVuSans-6e\" x=\"118.457031\"/>\n      <use xlink:href=\"#DejaVuSans-74\" x=\"181.835938\"/>\n      <use xlink:href=\"#DejaVuSans-20\" x=\"221.044922\"/>\n      <use xlink:href=\"#DejaVuSans-74\" x=\"252.832031\"/>\n      <use xlink:href=\"#DejaVuSans-72\" x=\"292.041016\"/>\n      <use xlink:href=\"#DejaVuSans-61\" x=\"333.154297\"/>\n      <use xlink:href=\"#DejaVuSans-69\" x=\"394.433594\"/>\n      <use xlink:href=\"#DejaVuSans-6e\" x=\"422.216797\"/>\n      <use xlink:href=\"#DejaVuSans-69\" x=\"485.595703\"/>\n      <use xlink:href=\"#DejaVuSans-6e\" x=\"513.378906\"/>\n      <use xlink:href=\"#DejaVuSans-67\" x=\"576.757812\"/>\n     </g>\n    </g>\n    <g id=\"patch_19\">\n     <path d=\"M 383.271875 53.594688 \nL 403.271875 53.594688 \nL 403.271875 46.594688 \nL 383.271875 46.594688 \nz\n\" style=\"fill: #ff7f0e\"/>\n    </g>\n    <g id=\"text_16\">\n     <!-- Modular-DCM -->\n     <g transform=\"translate(411.271875 53.594688) scale(0.1 -0.1)\">\n      <defs>\n       <path id=\"DejaVuSans-4d\" d=\"M 628 4666 \nL 1569 4666 \nL 2759 1491 \nL 3956 4666 \nL 4897 4666 \nL 4897 0 \nL 4281 0 \nL 4281 4097 \nL 3078 897 \nL 2444 897 \nL 1241 4097 \nL 1241 0 \nL 628 0 \nL 628 4666 \nz\n\" transform=\"scale(0.015625)\"/>\n       <path id=\"DejaVuSans-2d\" d=\"M 313 2009 \nL 1997 2009 \nL 1997 1497 \nL 313 1497 \nL 313 2009 \nz\n\" transform=\"scale(0.015625)\"/>\n       <path id=\"DejaVuSans-44\" d=\"M 1259 4147 \nL 1259 519 \nL 2022 519 \nQ 2988 519 3436 956 \nQ 3884 1394 3884 2338 \nQ 3884 3275 3436 3711 \nQ 2988 4147 2022 4147 \nL 1259 4147 \nz\nM 628 4666 \nL 1925 4666 \nQ 3281 4666 3915 4102 \nQ 4550 3538 4550 2338 \nQ 4550 1131 3912 565 \nQ 3275 0 1925 0 \nL 628 0 \nL 628 4666 \nz\n\" transform=\"scale(0.015625)\"/>\n       <path id=\"DejaVuSans-43\" d=\"M 4122 4306 \nL 4122 3641 \nQ 3803 3938 3442 4084 \nQ 3081 4231 2675 4231 \nQ 1875 4231 1450 3742 \nQ 1025 3253 1025 2328 \nQ 1025 1406 1450 917 \nQ 1875 428 2675 428 \nQ 3081 428 3442 575 \nQ 3803 722 4122 1019 \nL 4122 359 \nQ 3791 134 3420 21 \nQ 3050 -91 2638 -91 \nQ 1578 -91 968 557 \nQ 359 1206 359 2328 \nQ 359 3453 968 4101 \nQ 1578 4750 2638 4750 \nQ 3056 4750 3426 4639 \nQ 3797 4528 4122 4306 \nz\n\" transform=\"scale(0.015625)\"/>\n      </defs>\n      <use xlink:href=\"#DejaVuSans-4d\"/>\n      <use xlink:href=\"#DejaVuSans-6f\" x=\"86.279297\"/>\n      <use xlink:href=\"#DejaVuSans-64\" x=\"147.460938\"/>\n      <use xlink:href=\"#DejaVuSans-75\" x=\"210.9375\"/>\n      <use xlink:href=\"#DejaVuSans-6c\" x=\"274.316406\"/>\n      <use xlink:href=\"#DejaVuSans-61\" x=\"302.099609\"/>\n      <use xlink:href=\"#DejaVuSans-72\" x=\"363.378906\"/>\n      <use xlink:href=\"#DejaVuSans-2d\" x=\"398.117188\"/>\n      <use xlink:href=\"#DejaVuSans-44\" x=\"434.201172\"/>\n      <use xlink:href=\"#DejaVuSans-43\" x=\"511.203125\"/>\n      <use xlink:href=\"#DejaVuSans-4d\" x=\"581.027344\"/>\n     </g>\n    </g>\n   </g>\n  </g>\n </g>\n <defs>\n  <clipPath id=\"p453a5c1236\">\n   <rect x=\"40.603125\" y=\"22.318125\" width=\"446.4\" height=\"277.2\"/>\n  </clipPath>\n </defs>\n</svg>\n"
     },
     "metadata": {},
     "output_type": "display_data"
    }
   ],
   "source": [
    "import pickle\n",
    "\n",
    "xaxis=[int(n/10), int(n/8), int(n/6), int(n/4), int(n/3)]\n",
    "joint= [n for i in range(len(xaxis))]\n",
    "\n",
    "\n",
    "number_of_nodes={\n",
    "    'xaxis':xaxis,\n",
    "    'mech':y1axis,\n",
    "    'data':y2axis\n",
    "}\n",
    "\n",
    "\n",
    "# save_loc = f'./results/{title}.pkl'\n",
    "# with open(save_loc, 'rb') as f:\n",
    "#     object_file = pickle.load(f)\n",
    "# object_file\n",
    "\n",
    "# joint= [n for n in range(15, 51, 5)]\n",
    "plt.figure(figsize=(8,5))\n",
    "barWidth = 0.83\n",
    "br1 = xaxis\n",
    "br2 = [x - barWidth for x in xaxis]\n",
    "br3 = [x + barWidth for x in xaxis]\n",
    "plt.bar(br3, joint, label='Joint training', width=barWidth)\n",
    "plt.bar(br1, y1axis, label='Modular-DCM', width=barWidth)\n",
    "plt.xticks(xaxis)\n",
    "plt.xlabel('Number of nodes')\n",
    "plt.ylabel('Largest number of networks need training together')\n",
    "plt.title('Performance with arc ratio and #of latents as n/3')\n",
    "plt.legend()"
   ],
   "metadata": {
    "collapsed": false
   }
  },
  {
   "cell_type": "code",
   "execution_count": 33,
   "outputs": [
    {
     "data": {
      "text/plain": "[50, 50, 50, 50, 50]"
     },
     "execution_count": 33,
     "metadata": {},
     "output_type": "execute_result"
    }
   ],
   "source": [
    "joint"
   ],
   "metadata": {
    "collapsed": false
   }
  },
  {
   "cell_type": "code",
   "execution_count": 27,
   "outputs": [],
   "source": [],
   "metadata": {
    "collapsed": false
   }
  }
 ],
 "metadata": {
  "kernelspec": {
   "display_name": "Python 3",
   "language": "python",
   "name": "python3"
  },
  "language_info": {
   "codemirror_mode": {
    "name": "ipython",
    "version": 2
   },
   "file_extension": ".py",
   "mimetype": "text/x-python",
   "name": "python",
   "nbconvert_exporter": "python",
   "pygments_lexer": "ipython2",
   "version": "2.7.6"
  }
 },
 "nbformat": 4,
 "nbformat_minor": 0
}
